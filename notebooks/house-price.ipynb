{
 "cells": [
  {
   "cell_type": "code",
   "execution_count": 1,
   "id": "0f4ec38f",
   "metadata": {
    "_cell_guid": "b1076dfc-b9ad-4769-8c92-a6c4dae69d19",
    "_uuid": "8f2839f25d086af736a60e9eeb907d3b93b6e0e5",
    "execution": {
     "iopub.execute_input": "2025-04-25T16:24:09.449557Z",
     "iopub.status.busy": "2025-04-25T16:24:09.449199Z",
     "iopub.status.idle": "2025-04-25T16:24:11.471230Z",
     "shell.execute_reply": "2025-04-25T16:24:11.470131Z"
    },
    "papermill": {
     "duration": 2.032002,
     "end_time": "2025-04-25T16:24:11.473187",
     "exception": false,
     "start_time": "2025-04-25T16:24:09.441185",
     "status": "completed"
    },
    "tags": []
   },
   "outputs": [
    {
     "name": "stdout",
     "output_type": "stream",
     "text": [
      "/kaggle/input/ames-housing-dataset/AmesHousing.csv\n"
     ]
    }
   ],
   "source": [
    "# This Python 3 environment comes with many helpful analytics libraries installed\n",
    "# It is defined by the kaggle/python Docker image: https://github.com/kaggle/docker-python\n",
    "# For example, here's several helpful packages to load\n",
    "\n",
    "import numpy as np # linear algebra\n",
    "import pandas as pd # data processing, CSV file I/O (e.g. pd.read_csv)\n",
    "\n",
    "# Input data files are available in the read-only \"../input/\" directory\n",
    "# For example, running this (by clicking run or pressing Shift+Enter) will list all files under the input directory\n",
    "\n",
    "import os\n",
    "for dirname, _, filenames in os.walk('/kaggle/input'):\n",
    "    for filename in filenames:\n",
    "        print(os.path.join(dirname, filename))\n",
    "\n",
    "# You can write up to 20GB to the current directory (/kaggle/working/) that gets preserved as output when you create a version using \"Save & Run All\" \n",
    "# You can also write temporary files to /kaggle/temp/, but they won't be saved outside of the current session"
   ]
  },
  {
   "cell_type": "markdown",
   "id": "4b0d51c2",
   "metadata": {
    "papermill": {
     "duration": 0.005347,
     "end_time": "2025-04-25T16:24:11.487204",
     "exception": false,
     "start_time": "2025-04-25T16:24:11.481857",
     "status": "completed"
    },
    "tags": []
   },
   "source": [
    "# **Libraries**"
   ]
  },
  {
   "cell_type": "code",
   "execution_count": 2,
   "id": "16ace274",
   "metadata": {
    "execution": {
     "iopub.execute_input": "2025-04-25T16:24:11.501290Z",
     "iopub.status.busy": "2025-04-25T16:24:11.500657Z",
     "iopub.status.idle": "2025-04-25T16:24:13.940965Z",
     "shell.execute_reply": "2025-04-25T16:24:13.940081Z"
    },
    "papermill": {
     "duration": 2.448796,
     "end_time": "2025-04-25T16:24:13.942803",
     "exception": false,
     "start_time": "2025-04-25T16:24:11.494007",
     "status": "completed"
    },
    "tags": []
   },
   "outputs": [],
   "source": [
    "import pandas as pd\n",
    "import os\n",
    "\n",
    "from sklearn.preprocessing import LabelEncoder\n",
    "from sklearn.model_selection import train_test_split\n",
    "from sklearn.linear_model import LinearRegression\n",
    "from sklearn.metrics import mean_absolute_error, mean_squared_error, r2_score\n",
    "\n",
    "import xgboost as xgb\n",
    "from sklearn.ensemble import RandomForestRegressor\n"
   ]
  },
  {
   "cell_type": "markdown",
   "id": "91ea7112",
   "metadata": {
    "papermill": {
     "duration": 0.005401,
     "end_time": "2025-04-25T16:24:13.954192",
     "exception": false,
     "start_time": "2025-04-25T16:24:13.948791",
     "status": "completed"
    },
    "tags": []
   },
   "source": [
    "# **Dataset Loading**"
   ]
  },
  {
   "cell_type": "code",
   "execution_count": 3,
   "id": "baf763c1",
   "metadata": {
    "execution": {
     "iopub.execute_input": "2025-04-25T16:24:13.966839Z",
     "iopub.status.busy": "2025-04-25T16:24:13.966348Z",
     "iopub.status.idle": "2025-04-25T16:24:14.041269Z",
     "shell.execute_reply": "2025-04-25T16:24:14.040294Z"
    },
    "papermill": {
     "duration": 0.083111,
     "end_time": "2025-04-25T16:24:14.042983",
     "exception": false,
     "start_time": "2025-04-25T16:24:13.959872",
     "status": "completed"
    },
    "tags": []
   },
   "outputs": [],
   "source": [
    "# Try to load from Kaggle path\n",
    "if os.path.exists('/kaggle/input/ames-housing-dataset/AmesHousing.csv'):\n",
    "    path = '/kaggle/input/ames-housing-dataset/AmesHousing.csv'\n",
    "# Else, load from local repo (for example, if running locally or in Colab)\n",
    "else:\n",
    "    path = 'data/AmesHousing.csv'\n",
    "\n",
    "# Load dataset\n",
    "df = pd.read_csv(path)"
   ]
  },
  {
   "cell_type": "markdown",
   "id": "873e1970",
   "metadata": {
    "papermill": {
     "duration": 0.005367,
     "end_time": "2025-04-25T16:24:14.054253",
     "exception": false,
     "start_time": "2025-04-25T16:24:14.048886",
     "status": "completed"
    },
    "tags": []
   },
   "source": [
    "# **Step 1: Dataset Overview**"
   ]
  },
  {
   "cell_type": "code",
   "execution_count": 4,
   "id": "4281fbb2",
   "metadata": {
    "execution": {
     "iopub.execute_input": "2025-04-25T16:24:14.067271Z",
     "iopub.status.busy": "2025-04-25T16:24:14.066875Z",
     "iopub.status.idle": "2025-04-25T16:24:14.184691Z",
     "shell.execute_reply": "2025-04-25T16:24:14.183640Z"
    },
    "papermill": {
     "duration": 0.125877,
     "end_time": "2025-04-25T16:24:14.186144",
     "exception": false,
     "start_time": "2025-04-25T16:24:14.060267",
     "status": "completed"
    },
    "tags": []
   },
   "outputs": [
    {
     "name": "stdout",
     "output_type": "stream",
     "text": [
      "Dataset shape: (2930, 82)\n",
      "\n",
      "Data types in dataset:\n",
      "\n",
      "object     43\n",
      "int64      28\n",
      "float64    11\n",
      "Name: count, dtype: int64\n",
      "\n",
      "Missing values in dataset:\n",
      "\n",
      "Pool QC           2917\n",
      "Misc Feature      2824\n",
      "Alley             2732\n",
      "Fence             2358\n",
      "Mas Vnr Type      1775\n",
      "Fireplace Qu      1422\n",
      "Lot Frontage       490\n",
      "Garage Cond        159\n",
      "Garage Qual        159\n",
      "Garage Finish      159\n",
      "Garage Yr Blt      159\n",
      "Garage Type        157\n",
      "Bsmt Exposure       83\n",
      "BsmtFin Type 2      81\n",
      "Bsmt Cond           80\n",
      "Bsmt Qual           80\n",
      "BsmtFin Type 1      80\n",
      "Mas Vnr Area        23\n",
      "Bsmt Half Bath       2\n",
      "Bsmt Full Bath       2\n",
      "BsmtFin SF 1         1\n",
      "Garage Cars          1\n",
      "Garage Area          1\n",
      "Total Bsmt SF        1\n",
      "Bsmt Unf SF          1\n",
      "BsmtFin SF 2         1\n",
      "Electrical           1\n",
      "dtype: int64\n",
      "\n",
      "Basic statistics of numerical features:\n",
      "            Order           PID  MS SubClass  Lot Frontage       Lot Area  \\\n",
      "count  2930.00000  2.930000e+03  2930.000000   2440.000000    2930.000000   \n",
      "mean   1465.50000  7.144645e+08    57.387372     69.224590   10147.921843   \n",
      "std     845.96247  1.887308e+08    42.638025     23.365335    7880.017759   \n",
      "min       1.00000  5.263011e+08    20.000000     21.000000    1300.000000   \n",
      "25%     733.25000  5.284770e+08    20.000000     58.000000    7440.250000   \n",
      "50%    1465.50000  5.354536e+08    50.000000     68.000000    9436.500000   \n",
      "75%    2197.75000  9.071811e+08    70.000000     80.000000   11555.250000   \n",
      "max    2930.00000  1.007100e+09   190.000000    313.000000  215245.000000   \n",
      "\n",
      "       Overall Qual  Overall Cond   Year Built  Year Remod/Add  Mas Vnr Area  \\\n",
      "count   2930.000000   2930.000000  2930.000000     2930.000000   2907.000000   \n",
      "mean       6.094881      5.563140  1971.356314     1984.266553    101.896801   \n",
      "std        1.411026      1.111537    30.245361       20.860286    179.112611   \n",
      "min        1.000000      1.000000  1872.000000     1950.000000      0.000000   \n",
      "25%        5.000000      5.000000  1954.000000     1965.000000      0.000000   \n",
      "50%        6.000000      5.000000  1973.000000     1993.000000      0.000000   \n",
      "75%        7.000000      6.000000  2001.000000     2004.000000    164.000000   \n",
      "max       10.000000      9.000000  2010.000000     2010.000000   1600.000000   \n",
      "\n",
      "       ...  Wood Deck SF  Open Porch SF  Enclosed Porch   3Ssn Porch  \\\n",
      "count  ...   2930.000000    2930.000000     2930.000000  2930.000000   \n",
      "mean   ...     93.751877      47.533447       23.011604     2.592491   \n",
      "std    ...    126.361562      67.483400       64.139059    25.141331   \n",
      "min    ...      0.000000       0.000000        0.000000     0.000000   \n",
      "25%    ...      0.000000       0.000000        0.000000     0.000000   \n",
      "50%    ...      0.000000      27.000000        0.000000     0.000000   \n",
      "75%    ...    168.000000      70.000000        0.000000     0.000000   \n",
      "max    ...   1424.000000     742.000000     1012.000000   508.000000   \n",
      "\n",
      "       Screen Porch    Pool Area      Misc Val      Mo Sold      Yr Sold  \\\n",
      "count   2930.000000  2930.000000   2930.000000  2930.000000  2930.000000   \n",
      "mean      16.002048     2.243345     50.635154     6.216041  2007.790444   \n",
      "std       56.087370    35.597181    566.344288     2.714492     1.316613   \n",
      "min        0.000000     0.000000      0.000000     1.000000  2006.000000   \n",
      "25%        0.000000     0.000000      0.000000     4.000000  2007.000000   \n",
      "50%        0.000000     0.000000      0.000000     6.000000  2008.000000   \n",
      "75%        0.000000     0.000000      0.000000     8.000000  2009.000000   \n",
      "max      576.000000   800.000000  17000.000000    12.000000  2010.000000   \n",
      "\n",
      "           SalePrice  \n",
      "count    2930.000000  \n",
      "mean   180796.060068  \n",
      "std     79886.692357  \n",
      "min     12789.000000  \n",
      "25%    129500.000000  \n",
      "50%    160000.000000  \n",
      "75%    213500.000000  \n",
      "max    755000.000000  \n",
      "\n",
      "[8 rows x 39 columns]\n"
     ]
    },
    {
     "data": {
      "text/html": [
       "<div>\n",
       "<style scoped>\n",
       "    .dataframe tbody tr th:only-of-type {\n",
       "        vertical-align: middle;\n",
       "    }\n",
       "\n",
       "    .dataframe tbody tr th {\n",
       "        vertical-align: top;\n",
       "    }\n",
       "\n",
       "    .dataframe thead th {\n",
       "        text-align: right;\n",
       "    }\n",
       "</style>\n",
       "<table border=\"1\" class=\"dataframe\">\n",
       "  <thead>\n",
       "    <tr style=\"text-align: right;\">\n",
       "      <th></th>\n",
       "      <th>Order</th>\n",
       "      <th>PID</th>\n",
       "      <th>MS SubClass</th>\n",
       "      <th>MS Zoning</th>\n",
       "      <th>Lot Frontage</th>\n",
       "      <th>Lot Area</th>\n",
       "      <th>Street</th>\n",
       "      <th>Alley</th>\n",
       "      <th>Lot Shape</th>\n",
       "      <th>Land Contour</th>\n",
       "      <th>...</th>\n",
       "      <th>Pool Area</th>\n",
       "      <th>Pool QC</th>\n",
       "      <th>Fence</th>\n",
       "      <th>Misc Feature</th>\n",
       "      <th>Misc Val</th>\n",
       "      <th>Mo Sold</th>\n",
       "      <th>Yr Sold</th>\n",
       "      <th>Sale Type</th>\n",
       "      <th>Sale Condition</th>\n",
       "      <th>SalePrice</th>\n",
       "    </tr>\n",
       "  </thead>\n",
       "  <tbody>\n",
       "    <tr>\n",
       "      <th>0</th>\n",
       "      <td>1</td>\n",
       "      <td>526301100</td>\n",
       "      <td>20</td>\n",
       "      <td>RL</td>\n",
       "      <td>141.0</td>\n",
       "      <td>31770</td>\n",
       "      <td>Pave</td>\n",
       "      <td>NaN</td>\n",
       "      <td>IR1</td>\n",
       "      <td>Lvl</td>\n",
       "      <td>...</td>\n",
       "      <td>0</td>\n",
       "      <td>NaN</td>\n",
       "      <td>NaN</td>\n",
       "      <td>NaN</td>\n",
       "      <td>0</td>\n",
       "      <td>5</td>\n",
       "      <td>2010</td>\n",
       "      <td>WD</td>\n",
       "      <td>Normal</td>\n",
       "      <td>215000</td>\n",
       "    </tr>\n",
       "    <tr>\n",
       "      <th>1</th>\n",
       "      <td>2</td>\n",
       "      <td>526350040</td>\n",
       "      <td>20</td>\n",
       "      <td>RH</td>\n",
       "      <td>80.0</td>\n",
       "      <td>11622</td>\n",
       "      <td>Pave</td>\n",
       "      <td>NaN</td>\n",
       "      <td>Reg</td>\n",
       "      <td>Lvl</td>\n",
       "      <td>...</td>\n",
       "      <td>0</td>\n",
       "      <td>NaN</td>\n",
       "      <td>MnPrv</td>\n",
       "      <td>NaN</td>\n",
       "      <td>0</td>\n",
       "      <td>6</td>\n",
       "      <td>2010</td>\n",
       "      <td>WD</td>\n",
       "      <td>Normal</td>\n",
       "      <td>105000</td>\n",
       "    </tr>\n",
       "    <tr>\n",
       "      <th>2</th>\n",
       "      <td>3</td>\n",
       "      <td>526351010</td>\n",
       "      <td>20</td>\n",
       "      <td>RL</td>\n",
       "      <td>81.0</td>\n",
       "      <td>14267</td>\n",
       "      <td>Pave</td>\n",
       "      <td>NaN</td>\n",
       "      <td>IR1</td>\n",
       "      <td>Lvl</td>\n",
       "      <td>...</td>\n",
       "      <td>0</td>\n",
       "      <td>NaN</td>\n",
       "      <td>NaN</td>\n",
       "      <td>Gar2</td>\n",
       "      <td>12500</td>\n",
       "      <td>6</td>\n",
       "      <td>2010</td>\n",
       "      <td>WD</td>\n",
       "      <td>Normal</td>\n",
       "      <td>172000</td>\n",
       "    </tr>\n",
       "    <tr>\n",
       "      <th>3</th>\n",
       "      <td>4</td>\n",
       "      <td>526353030</td>\n",
       "      <td>20</td>\n",
       "      <td>RL</td>\n",
       "      <td>93.0</td>\n",
       "      <td>11160</td>\n",
       "      <td>Pave</td>\n",
       "      <td>NaN</td>\n",
       "      <td>Reg</td>\n",
       "      <td>Lvl</td>\n",
       "      <td>...</td>\n",
       "      <td>0</td>\n",
       "      <td>NaN</td>\n",
       "      <td>NaN</td>\n",
       "      <td>NaN</td>\n",
       "      <td>0</td>\n",
       "      <td>4</td>\n",
       "      <td>2010</td>\n",
       "      <td>WD</td>\n",
       "      <td>Normal</td>\n",
       "      <td>244000</td>\n",
       "    </tr>\n",
       "    <tr>\n",
       "      <th>4</th>\n",
       "      <td>5</td>\n",
       "      <td>527105010</td>\n",
       "      <td>60</td>\n",
       "      <td>RL</td>\n",
       "      <td>74.0</td>\n",
       "      <td>13830</td>\n",
       "      <td>Pave</td>\n",
       "      <td>NaN</td>\n",
       "      <td>IR1</td>\n",
       "      <td>Lvl</td>\n",
       "      <td>...</td>\n",
       "      <td>0</td>\n",
       "      <td>NaN</td>\n",
       "      <td>MnPrv</td>\n",
       "      <td>NaN</td>\n",
       "      <td>0</td>\n",
       "      <td>3</td>\n",
       "      <td>2010</td>\n",
       "      <td>WD</td>\n",
       "      <td>Normal</td>\n",
       "      <td>189900</td>\n",
       "    </tr>\n",
       "  </tbody>\n",
       "</table>\n",
       "<p>5 rows × 82 columns</p>\n",
       "</div>"
      ],
      "text/plain": [
       "   Order        PID  MS SubClass MS Zoning  Lot Frontage  Lot Area Street  \\\n",
       "0      1  526301100           20        RL         141.0     31770   Pave   \n",
       "1      2  526350040           20        RH          80.0     11622   Pave   \n",
       "2      3  526351010           20        RL          81.0     14267   Pave   \n",
       "3      4  526353030           20        RL          93.0     11160   Pave   \n",
       "4      5  527105010           60        RL          74.0     13830   Pave   \n",
       "\n",
       "  Alley Lot Shape Land Contour  ... Pool Area Pool QC  Fence Misc Feature  \\\n",
       "0   NaN       IR1          Lvl  ...         0     NaN    NaN          NaN   \n",
       "1   NaN       Reg          Lvl  ...         0     NaN  MnPrv          NaN   \n",
       "2   NaN       IR1          Lvl  ...         0     NaN    NaN         Gar2   \n",
       "3   NaN       Reg          Lvl  ...         0     NaN    NaN          NaN   \n",
       "4   NaN       IR1          Lvl  ...         0     NaN  MnPrv          NaN   \n",
       "\n",
       "  Misc Val Mo Sold Yr Sold Sale Type  Sale Condition  SalePrice  \n",
       "0        0       5    2010       WD           Normal     215000  \n",
       "1        0       6    2010       WD           Normal     105000  \n",
       "2    12500       6    2010       WD           Normal     172000  \n",
       "3        0       4    2010       WD           Normal     244000  \n",
       "4        0       3    2010       WD           Normal     189900  \n",
       "\n",
       "[5 rows x 82 columns]"
      ]
     },
     "execution_count": 4,
     "metadata": {},
     "output_type": "execute_result"
    }
   ],
   "source": [
    "# Display dataset shape\n",
    "print(\"Dataset shape:\", df.shape)\n",
    "\n",
    "# Display data types count\n",
    "print(\"\\nData types in dataset:\\n\")\n",
    "print(df.dtypes.value_counts())\n",
    "\n",
    "# Display number of missing values (sorted)\n",
    "missing_values = df.isnull().sum()\n",
    "missing_values = missing_values[missing_values > 0].sort_values(ascending=False)\n",
    "\n",
    "print(\"\\nMissing values in dataset:\\n\")\n",
    "print(missing_values)\n",
    "\n",
    "# Basic statistics summary of numerical features\n",
    "print(\"\\nBasic statistics of numerical features:\")\n",
    "print(df.describe())\n",
    "\n",
    "# Show first few rows of the dataset\n",
    "df.head()\n"
   ]
  },
  {
   "cell_type": "markdown",
   "id": "b0c97627",
   "metadata": {
    "papermill": {
     "duration": 0.005815,
     "end_time": "2025-04-25T16:24:14.198319",
     "exception": false,
     "start_time": "2025-04-25T16:24:14.192504",
     "status": "completed"
    },
    "tags": []
   },
   "source": [
    "# **Step 2: Dataset Cleaning (Handeling Missing Values)**"
   ]
  },
  {
   "cell_type": "markdown",
   "id": "b2ccc61e",
   "metadata": {
    "papermill": {
     "duration": 0.005926,
     "end_time": "2025-04-25T16:24:14.210472",
     "exception": false,
     "start_time": "2025-04-25T16:24:14.204546",
     "status": "completed"
    },
    "tags": []
   },
   "source": [
    "\n",
    "\n",
    "1. Drop columns with too many missing values\n",
    "2. Fill categorical NaNs with \"None\n",
    "3. Fill numerical NaNs with 0\n",
    "4. Fill Lot Frontage with the median\n",
    "\n"
   ]
  },
  {
   "cell_type": "code",
   "execution_count": 5,
   "id": "5864d60a",
   "metadata": {
    "execution": {
     "iopub.execute_input": "2025-04-25T16:24:14.224289Z",
     "iopub.status.busy": "2025-04-25T16:24:14.223910Z",
     "iopub.status.idle": "2025-04-25T16:24:14.247386Z",
     "shell.execute_reply": "2025-04-25T16:24:14.246392Z"
    },
    "papermill": {
     "duration": 0.032651,
     "end_time": "2025-04-25T16:24:14.249147",
     "exception": false,
     "start_time": "2025-04-25T16:24:14.216496",
     "status": "completed"
    },
    "tags": []
   },
   "outputs": [],
   "source": [
    "# Drop columns with too many missing values\n",
    "df.drop(columns=[\"Pool QC\", \"Misc Feature\", \"Alley\", \"Fence\"], inplace=True)\n",
    "\n",
    "# Fill categorical NaNs with \"None\"\n",
    "categorical_cols_fill_none = [\n",
    "    \"Mas Vnr Type\", \"Fireplace Qu\", \"Garage Type\", \"Garage Finish\",\n",
    "    \"Garage Qual\", \"Garage Cond\", \"Bsmt Exposure\", \"BsmtFin Type 1\",\n",
    "    \"BsmtFin Type 2\", \"Bsmt Cond\", \"Bsmt Qual\", \"Electrical\"\n",
    "]\n",
    "for col in categorical_cols_fill_none:\n",
    "    df[col] = df[col].fillna(\"None\")\n",
    "\n",
    "# Fill numerical NaNs with 0 (where appropriate)\n",
    "numerical_cols_fill_zero = [\n",
    "    \"Mas Vnr Area\", \"Garage Yr Blt\", \"Bsmt Half Bath\", \"Bsmt Full Bath\",\n",
    "    \"BsmtFin SF 1\", \"BsmtFin SF 2\", \"Bsmt Unf SF\", \"Total Bsmt SF\",\n",
    "    \"Garage Cars\", \"Garage Area\"\n",
    "]\n",
    "for col in numerical_cols_fill_zero:\n",
    "    df[col] = df[col].fillna(0)\n",
    "\n",
    "# Optionally fill Lot Frontage with the median (more meaningful than mean)\n",
    "df[\"Lot Frontage\"] = df[\"Lot Frontage\"].fillna(df[\"Lot Frontage\"].median())\n"
   ]
  },
  {
   "cell_type": "markdown",
   "id": "958aa47d",
   "metadata": {
    "papermill": {
     "duration": 0.005836,
     "end_time": "2025-04-25T16:24:14.261321",
     "exception": false,
     "start_time": "2025-04-25T16:24:14.255485",
     "status": "completed"
    },
    "tags": []
   },
   "source": [
    "# **Step 3: Encoding Categorical Features**"
   ]
  },
  {
   "cell_type": "code",
   "execution_count": 6,
   "id": "6f2e6968",
   "metadata": {
    "execution": {
     "iopub.execute_input": "2025-04-25T16:24:14.274639Z",
     "iopub.status.busy": "2025-04-25T16:24:14.274218Z",
     "iopub.status.idle": "2025-04-25T16:24:14.322138Z",
     "shell.execute_reply": "2025-04-25T16:24:14.321034Z"
    },
    "papermill": {
     "duration": 0.057004,
     "end_time": "2025-04-25T16:24:14.324275",
     "exception": false,
     "start_time": "2025-04-25T16:24:14.267271",
     "status": "completed"
    },
    "tags": []
   },
   "outputs": [],
   "source": [
    "# Identify categorical columns\n",
    "categorical_cols = df.select_dtypes(include=[\"object\"]).columns\n",
    "\n",
    "# One-Hot Encoding\n",
    "df = pd.get_dummies(df, columns=categorical_cols, drop_first=True)"
   ]
  },
  {
   "cell_type": "markdown",
   "id": "c1a6080f",
   "metadata": {
    "papermill": {
     "duration": 0.005736,
     "end_time": "2025-04-25T16:24:14.336207",
     "exception": false,
     "start_time": "2025-04-25T16:24:14.330471",
     "status": "completed"
    },
    "tags": []
   },
   "source": [
    "# **Step 4: Drop irrelevant ID-like columns**"
   ]
  },
  {
   "cell_type": "code",
   "execution_count": 7,
   "id": "b8ad32b0",
   "metadata": {
    "execution": {
     "iopub.execute_input": "2025-04-25T16:24:14.349869Z",
     "iopub.status.busy": "2025-04-25T16:24:14.349519Z",
     "iopub.status.idle": "2025-04-25T16:24:14.359370Z",
     "shell.execute_reply": "2025-04-25T16:24:14.358390Z"
    },
    "papermill": {
     "duration": 0.018682,
     "end_time": "2025-04-25T16:24:14.361043",
     "exception": false,
     "start_time": "2025-04-25T16:24:14.342361",
     "status": "completed"
    },
    "tags": []
   },
   "outputs": [],
   "source": [
    "# Drop irrelevant ID-like columns\n",
    "columns_to_drop = ['Order', 'PID']\n",
    "df.drop(columns=[col for col in columns_to_drop if col in df.columns], inplace=True)"
   ]
  },
  {
   "cell_type": "markdown",
   "id": "16c86bce",
   "metadata": {
    "papermill": {
     "duration": 0.005973,
     "end_time": "2025-04-25T16:24:14.373238",
     "exception": false,
     "start_time": "2025-04-25T16:24:14.367265",
     "status": "completed"
    },
    "tags": []
   },
   "source": [
    "# **Step 5: Define Target and Features**"
   ]
  },
  {
   "cell_type": "code",
   "execution_count": 8,
   "id": "bd49bdeb",
   "metadata": {
    "execution": {
     "iopub.execute_input": "2025-04-25T16:24:14.387027Z",
     "iopub.status.busy": "2025-04-25T16:24:14.386436Z",
     "iopub.status.idle": "2025-04-25T16:24:14.394008Z",
     "shell.execute_reply": "2025-04-25T16:24:14.393156Z"
    },
    "papermill": {
     "duration": 0.01606,
     "end_time": "2025-04-25T16:24:14.395588",
     "exception": false,
     "start_time": "2025-04-25T16:24:14.379528",
     "status": "completed"
    },
    "tags": []
   },
   "outputs": [],
   "source": [
    "# Define target and features\n",
    "X = df.drop(\"SalePrice\", axis=1)\n",
    "y = df[\"SalePrice\"]"
   ]
  },
  {
   "cell_type": "markdown",
   "id": "b121d78f",
   "metadata": {
    "papermill": {
     "duration": 0.005656,
     "end_time": "2025-04-25T16:24:14.407465",
     "exception": false,
     "start_time": "2025-04-25T16:24:14.401809",
     "status": "completed"
    },
    "tags": []
   },
   "source": [
    "# **Step 6: Spiliting Data into Train and Test**"
   ]
  },
  {
   "cell_type": "code",
   "execution_count": 9,
   "id": "9d3800f0",
   "metadata": {
    "execution": {
     "iopub.execute_input": "2025-04-25T16:24:14.420996Z",
     "iopub.status.busy": "2025-04-25T16:24:14.420681Z",
     "iopub.status.idle": "2025-04-25T16:24:14.432072Z",
     "shell.execute_reply": "2025-04-25T16:24:14.431189Z"
    },
    "papermill": {
     "duration": 0.020404,
     "end_time": "2025-04-25T16:24:14.433774",
     "exception": false,
     "start_time": "2025-04-25T16:24:14.413370",
     "status": "completed"
    },
    "tags": []
   },
   "outputs": [],
   "source": [
    "# Split the data\n",
    "X_train, X_test, y_train, y_test = train_test_split(\n",
    "    X, y, test_size=0.2, random_state=42\n",
    ")"
   ]
  },
  {
   "cell_type": "markdown",
   "id": "71d27614",
   "metadata": {
    "papermill": {
     "duration": 0.005813,
     "end_time": "2025-04-25T16:24:14.445764",
     "exception": false,
     "start_time": "2025-04-25T16:24:14.439951",
     "status": "completed"
    },
    "tags": []
   },
   "source": [
    "# **Step 7: Model Fitting: Linear Regression**"
   ]
  },
  {
   "cell_type": "code",
   "execution_count": 10,
   "id": "3760ce3f",
   "metadata": {
    "execution": {
     "iopub.execute_input": "2025-04-25T16:24:14.459774Z",
     "iopub.status.busy": "2025-04-25T16:24:14.459437Z",
     "iopub.status.idle": "2025-04-25T16:24:14.588622Z",
     "shell.execute_reply": "2025-04-25T16:24:14.587752Z"
    },
    "papermill": {
     "duration": 0.138506,
     "end_time": "2025-04-25T16:24:14.590450",
     "exception": false,
     "start_time": "2025-04-25T16:24:14.451944",
     "status": "completed"
    },
    "tags": []
   },
   "outputs": [
    {
     "data": {
      "text/html": [
       "<style>#sk-container-id-1 {color: black;background-color: white;}#sk-container-id-1 pre{padding: 0;}#sk-container-id-1 div.sk-toggleable {background-color: white;}#sk-container-id-1 label.sk-toggleable__label {cursor: pointer;display: block;width: 100%;margin-bottom: 0;padding: 0.3em;box-sizing: border-box;text-align: center;}#sk-container-id-1 label.sk-toggleable__label-arrow:before {content: \"▸\";float: left;margin-right: 0.25em;color: #696969;}#sk-container-id-1 label.sk-toggleable__label-arrow:hover:before {color: black;}#sk-container-id-1 div.sk-estimator:hover label.sk-toggleable__label-arrow:before {color: black;}#sk-container-id-1 div.sk-toggleable__content {max-height: 0;max-width: 0;overflow: hidden;text-align: left;background-color: #f0f8ff;}#sk-container-id-1 div.sk-toggleable__content pre {margin: 0.2em;color: black;border-radius: 0.25em;background-color: #f0f8ff;}#sk-container-id-1 input.sk-toggleable__control:checked~div.sk-toggleable__content {max-height: 200px;max-width: 100%;overflow: auto;}#sk-container-id-1 input.sk-toggleable__control:checked~label.sk-toggleable__label-arrow:before {content: \"▾\";}#sk-container-id-1 div.sk-estimator input.sk-toggleable__control:checked~label.sk-toggleable__label {background-color: #d4ebff;}#sk-container-id-1 div.sk-label input.sk-toggleable__control:checked~label.sk-toggleable__label {background-color: #d4ebff;}#sk-container-id-1 input.sk-hidden--visually {border: 0;clip: rect(1px 1px 1px 1px);clip: rect(1px, 1px, 1px, 1px);height: 1px;margin: -1px;overflow: hidden;padding: 0;position: absolute;width: 1px;}#sk-container-id-1 div.sk-estimator {font-family: monospace;background-color: #f0f8ff;border: 1px dotted black;border-radius: 0.25em;box-sizing: border-box;margin-bottom: 0.5em;}#sk-container-id-1 div.sk-estimator:hover {background-color: #d4ebff;}#sk-container-id-1 div.sk-parallel-item::after {content: \"\";width: 100%;border-bottom: 1px solid gray;flex-grow: 1;}#sk-container-id-1 div.sk-label:hover label.sk-toggleable__label {background-color: #d4ebff;}#sk-container-id-1 div.sk-serial::before {content: \"\";position: absolute;border-left: 1px solid gray;box-sizing: border-box;top: 0;bottom: 0;left: 50%;z-index: 0;}#sk-container-id-1 div.sk-serial {display: flex;flex-direction: column;align-items: center;background-color: white;padding-right: 0.2em;padding-left: 0.2em;position: relative;}#sk-container-id-1 div.sk-item {position: relative;z-index: 1;}#sk-container-id-1 div.sk-parallel {display: flex;align-items: stretch;justify-content: center;background-color: white;position: relative;}#sk-container-id-1 div.sk-item::before, #sk-container-id-1 div.sk-parallel-item::before {content: \"\";position: absolute;border-left: 1px solid gray;box-sizing: border-box;top: 0;bottom: 0;left: 50%;z-index: -1;}#sk-container-id-1 div.sk-parallel-item {display: flex;flex-direction: column;z-index: 1;position: relative;background-color: white;}#sk-container-id-1 div.sk-parallel-item:first-child::after {align-self: flex-end;width: 50%;}#sk-container-id-1 div.sk-parallel-item:last-child::after {align-self: flex-start;width: 50%;}#sk-container-id-1 div.sk-parallel-item:only-child::after {width: 0;}#sk-container-id-1 div.sk-dashed-wrapped {border: 1px dashed gray;margin: 0 0.4em 0.5em 0.4em;box-sizing: border-box;padding-bottom: 0.4em;background-color: white;}#sk-container-id-1 div.sk-label label {font-family: monospace;font-weight: bold;display: inline-block;line-height: 1.2em;}#sk-container-id-1 div.sk-label-container {text-align: center;}#sk-container-id-1 div.sk-container {/* jupyter's `normalize.less` sets `[hidden] { display: none; }` but bootstrap.min.css set `[hidden] { display: none !important; }` so we also need the `!important` here to be able to override the default hidden behavior on the sphinx rendered scikit-learn.org. See: https://github.com/scikit-learn/scikit-learn/issues/21755 */display: inline-block !important;position: relative;}#sk-container-id-1 div.sk-text-repr-fallback {display: none;}</style><div id=\"sk-container-id-1\" class=\"sk-top-container\"><div class=\"sk-text-repr-fallback\"><pre>LinearRegression()</pre><b>In a Jupyter environment, please rerun this cell to show the HTML representation or trust the notebook. <br />On GitHub, the HTML representation is unable to render, please try loading this page with nbviewer.org.</b></div><div class=\"sk-container\" hidden><div class=\"sk-item\"><div class=\"sk-estimator sk-toggleable\"><input class=\"sk-toggleable__control sk-hidden--visually\" id=\"sk-estimator-id-1\" type=\"checkbox\" checked><label for=\"sk-estimator-id-1\" class=\"sk-toggleable__label sk-toggleable__label-arrow\">LinearRegression</label><div class=\"sk-toggleable__content\"><pre>LinearRegression()</pre></div></div></div></div></div>"
      ],
      "text/plain": [
       "LinearRegression()"
      ]
     },
     "execution_count": 10,
     "metadata": {},
     "output_type": "execute_result"
    }
   ],
   "source": [
    "# Create a Linear Regression model\n",
    "model = LinearRegression()\n",
    "\n",
    "# Fit the model to the training data\n",
    "model.fit(X_train, y_train)"
   ]
  },
  {
   "cell_type": "markdown",
   "id": "d567562b",
   "metadata": {
    "papermill": {
     "duration": 0.009821,
     "end_time": "2025-04-25T16:24:14.610717",
     "exception": false,
     "start_time": "2025-04-25T16:24:14.600896",
     "status": "completed"
    },
    "tags": []
   },
   "source": [
    "# Model Prediction on Test Data "
   ]
  },
  {
   "cell_type": "code",
   "execution_count": 11,
   "id": "6c44d5b2",
   "metadata": {
    "execution": {
     "iopub.execute_input": "2025-04-25T16:24:14.634325Z",
     "iopub.status.busy": "2025-04-25T16:24:14.632375Z",
     "iopub.status.idle": "2025-04-25T16:24:14.664197Z",
     "shell.execute_reply": "2025-04-25T16:24:14.663399Z"
    },
    "papermill": {
     "duration": 0.045301,
     "end_time": "2025-04-25T16:24:14.666161",
     "exception": false,
     "start_time": "2025-04-25T16:24:14.620860",
     "status": "completed"
    },
    "tags": []
   },
   "outputs": [],
   "source": [
    "# Make predictions on the test set\n",
    "y_pred = model.predict(X_test)"
   ]
  },
  {
   "cell_type": "markdown",
   "id": "b6ed8842",
   "metadata": {
    "papermill": {
     "duration": 0.009866,
     "end_time": "2025-04-25T16:24:14.689653",
     "exception": false,
     "start_time": "2025-04-25T16:24:14.679787",
     "status": "completed"
    },
    "tags": []
   },
   "source": [
    "# Linear Regression Evaluationg"
   ]
  },
  {
   "cell_type": "code",
   "execution_count": 12,
   "id": "bd57de6f",
   "metadata": {
    "execution": {
     "iopub.execute_input": "2025-04-25T16:24:14.705890Z",
     "iopub.status.busy": "2025-04-25T16:24:14.704992Z",
     "iopub.status.idle": "2025-04-25T16:24:14.712994Z",
     "shell.execute_reply": "2025-04-25T16:24:14.712050Z"
    },
    "papermill": {
     "duration": 0.017099,
     "end_time": "2025-04-25T16:24:14.714493",
     "exception": false,
     "start_time": "2025-04-25T16:24:14.697394",
     "status": "completed"
    },
    "tags": []
   },
   "outputs": [
    {
     "name": "stdout",
     "output_type": "stream",
     "text": [
      "R² score: 0.8952\n",
      "Mean Absolute Error (MAE): 16247.9553\n",
      "Mean Squared Error (MSE): 840470670.0811\n"
     ]
    }
   ],
   "source": [
    "# R² score\n",
    "r2 = r2_score(y_test, y_pred)\n",
    "\n",
    "# Mean Absolute Error (MAE)\n",
    "mae = mean_absolute_error(y_test, y_pred)\n",
    "\n",
    "# Mean Squared Error (MSE)\n",
    "mse = mean_squared_error(y_test, y_pred)\n",
    "\n",
    "# Print the evaluation metrics\n",
    "print(f\"R² score: {r2:.4f}\")\n",
    "print(f\"Mean Absolute Error (MAE): {mae:.4f}\")\n",
    "print(f\"Mean Squared Error (MSE): {mse:.4f}\")\n"
   ]
  },
  {
   "cell_type": "markdown",
   "id": "ce7c74f8",
   "metadata": {
    "papermill": {
     "duration": 0.006175,
     "end_time": "2025-04-25T16:24:14.727727",
     "exception": false,
     "start_time": "2025-04-25T16:24:14.721552",
     "status": "completed"
    },
    "tags": []
   },
   "source": [
    "# **Step 7: Model Fitting: Random Forest**"
   ]
  },
  {
   "cell_type": "code",
   "execution_count": 13,
   "id": "535a3804",
   "metadata": {
    "execution": {
     "iopub.execute_input": "2025-04-25T16:24:14.741392Z",
     "iopub.status.busy": "2025-04-25T16:24:14.741101Z",
     "iopub.status.idle": "2025-04-25T16:24:20.455797Z",
     "shell.execute_reply": "2025-04-25T16:24:20.454728Z"
    },
    "papermill": {
     "duration": 5.723214,
     "end_time": "2025-04-25T16:24:20.457216",
     "exception": false,
     "start_time": "2025-04-25T16:24:14.734002",
     "status": "completed"
    },
    "tags": []
   },
   "outputs": [
    {
     "data": {
      "text/html": [
       "<style>#sk-container-id-2 {color: black;background-color: white;}#sk-container-id-2 pre{padding: 0;}#sk-container-id-2 div.sk-toggleable {background-color: white;}#sk-container-id-2 label.sk-toggleable__label {cursor: pointer;display: block;width: 100%;margin-bottom: 0;padding: 0.3em;box-sizing: border-box;text-align: center;}#sk-container-id-2 label.sk-toggleable__label-arrow:before {content: \"▸\";float: left;margin-right: 0.25em;color: #696969;}#sk-container-id-2 label.sk-toggleable__label-arrow:hover:before {color: black;}#sk-container-id-2 div.sk-estimator:hover label.sk-toggleable__label-arrow:before {color: black;}#sk-container-id-2 div.sk-toggleable__content {max-height: 0;max-width: 0;overflow: hidden;text-align: left;background-color: #f0f8ff;}#sk-container-id-2 div.sk-toggleable__content pre {margin: 0.2em;color: black;border-radius: 0.25em;background-color: #f0f8ff;}#sk-container-id-2 input.sk-toggleable__control:checked~div.sk-toggleable__content {max-height: 200px;max-width: 100%;overflow: auto;}#sk-container-id-2 input.sk-toggleable__control:checked~label.sk-toggleable__label-arrow:before {content: \"▾\";}#sk-container-id-2 div.sk-estimator input.sk-toggleable__control:checked~label.sk-toggleable__label {background-color: #d4ebff;}#sk-container-id-2 div.sk-label input.sk-toggleable__control:checked~label.sk-toggleable__label {background-color: #d4ebff;}#sk-container-id-2 input.sk-hidden--visually {border: 0;clip: rect(1px 1px 1px 1px);clip: rect(1px, 1px, 1px, 1px);height: 1px;margin: -1px;overflow: hidden;padding: 0;position: absolute;width: 1px;}#sk-container-id-2 div.sk-estimator {font-family: monospace;background-color: #f0f8ff;border: 1px dotted black;border-radius: 0.25em;box-sizing: border-box;margin-bottom: 0.5em;}#sk-container-id-2 div.sk-estimator:hover {background-color: #d4ebff;}#sk-container-id-2 div.sk-parallel-item::after {content: \"\";width: 100%;border-bottom: 1px solid gray;flex-grow: 1;}#sk-container-id-2 div.sk-label:hover label.sk-toggleable__label {background-color: #d4ebff;}#sk-container-id-2 div.sk-serial::before {content: \"\";position: absolute;border-left: 1px solid gray;box-sizing: border-box;top: 0;bottom: 0;left: 50%;z-index: 0;}#sk-container-id-2 div.sk-serial {display: flex;flex-direction: column;align-items: center;background-color: white;padding-right: 0.2em;padding-left: 0.2em;position: relative;}#sk-container-id-2 div.sk-item {position: relative;z-index: 1;}#sk-container-id-2 div.sk-parallel {display: flex;align-items: stretch;justify-content: center;background-color: white;position: relative;}#sk-container-id-2 div.sk-item::before, #sk-container-id-2 div.sk-parallel-item::before {content: \"\";position: absolute;border-left: 1px solid gray;box-sizing: border-box;top: 0;bottom: 0;left: 50%;z-index: -1;}#sk-container-id-2 div.sk-parallel-item {display: flex;flex-direction: column;z-index: 1;position: relative;background-color: white;}#sk-container-id-2 div.sk-parallel-item:first-child::after {align-self: flex-end;width: 50%;}#sk-container-id-2 div.sk-parallel-item:last-child::after {align-self: flex-start;width: 50%;}#sk-container-id-2 div.sk-parallel-item:only-child::after {width: 0;}#sk-container-id-2 div.sk-dashed-wrapped {border: 1px dashed gray;margin: 0 0.4em 0.5em 0.4em;box-sizing: border-box;padding-bottom: 0.4em;background-color: white;}#sk-container-id-2 div.sk-label label {font-family: monospace;font-weight: bold;display: inline-block;line-height: 1.2em;}#sk-container-id-2 div.sk-label-container {text-align: center;}#sk-container-id-2 div.sk-container {/* jupyter's `normalize.less` sets `[hidden] { display: none; }` but bootstrap.min.css set `[hidden] { display: none !important; }` so we also need the `!important` here to be able to override the default hidden behavior on the sphinx rendered scikit-learn.org. See: https://github.com/scikit-learn/scikit-learn/issues/21755 */display: inline-block !important;position: relative;}#sk-container-id-2 div.sk-text-repr-fallback {display: none;}</style><div id=\"sk-container-id-2\" class=\"sk-top-container\"><div class=\"sk-text-repr-fallback\"><pre>RandomForestRegressor(random_state=42)</pre><b>In a Jupyter environment, please rerun this cell to show the HTML representation or trust the notebook. <br />On GitHub, the HTML representation is unable to render, please try loading this page with nbviewer.org.</b></div><div class=\"sk-container\" hidden><div class=\"sk-item\"><div class=\"sk-estimator sk-toggleable\"><input class=\"sk-toggleable__control sk-hidden--visually\" id=\"sk-estimator-id-2\" type=\"checkbox\" checked><label for=\"sk-estimator-id-2\" class=\"sk-toggleable__label sk-toggleable__label-arrow\">RandomForestRegressor</label><div class=\"sk-toggleable__content\"><pre>RandomForestRegressor(random_state=42)</pre></div></div></div></div></div>"
      ],
      "text/plain": [
       "RandomForestRegressor(random_state=42)"
      ]
     },
     "execution_count": 13,
     "metadata": {},
     "output_type": "execute_result"
    }
   ],
   "source": [
    "# Create and fit the model\n",
    "rf_model = RandomForestRegressor(n_estimators=100, random_state=42)\n",
    "rf_model.fit(X_train, y_train)"
   ]
  },
  {
   "cell_type": "markdown",
   "id": "29de832d",
   "metadata": {
    "papermill": {
     "duration": 0.006241,
     "end_time": "2025-04-25T16:24:20.470238",
     "exception": false,
     "start_time": "2025-04-25T16:24:20.463997",
     "status": "completed"
    },
    "tags": []
   },
   "source": [
    "# Model Prediction on Test Data"
   ]
  },
  {
   "cell_type": "code",
   "execution_count": 14,
   "id": "b6a64ab7",
   "metadata": {
    "execution": {
     "iopub.execute_input": "2025-04-25T16:24:20.484648Z",
     "iopub.status.busy": "2025-04-25T16:24:20.484298Z",
     "iopub.status.idle": "2025-04-25T16:24:20.515203Z",
     "shell.execute_reply": "2025-04-25T16:24:20.514258Z"
    },
    "papermill": {
     "duration": 0.040397,
     "end_time": "2025-04-25T16:24:20.517130",
     "exception": false,
     "start_time": "2025-04-25T16:24:20.476733",
     "status": "completed"
    },
    "tags": []
   },
   "outputs": [],
   "source": [
    "# Predict\n",
    "y_pred_rf = rf_model.predict(X_test)"
   ]
  },
  {
   "cell_type": "markdown",
   "id": "5902bc99",
   "metadata": {
    "papermill": {
     "duration": 0.006219,
     "end_time": "2025-04-25T16:24:20.530383",
     "exception": false,
     "start_time": "2025-04-25T16:24:20.524164",
     "status": "completed"
    },
    "tags": []
   },
   "source": [
    "# Random Forest Evaluating"
   ]
  },
  {
   "cell_type": "code",
   "execution_count": 15,
   "id": "f8a58fe4",
   "metadata": {
    "execution": {
     "iopub.execute_input": "2025-04-25T16:24:20.545136Z",
     "iopub.status.busy": "2025-04-25T16:24:20.544819Z",
     "iopub.status.idle": "2025-04-25T16:24:20.553678Z",
     "shell.execute_reply": "2025-04-25T16:24:20.552592Z"
    },
    "papermill": {
     "duration": 0.018067,
     "end_time": "2025-04-25T16:24:20.555134",
     "exception": false,
     "start_time": "2025-04-25T16:24:20.537067",
     "status": "completed"
    },
    "tags": []
   },
   "outputs": [
    {
     "name": "stdout",
     "output_type": "stream",
     "text": [
      "Random Forest R² score: 0.9110\n",
      "Random Forest MAE: 15701.4665\n",
      "Random Forest MSE: 713948886.7678\n"
     ]
    }
   ],
   "source": [
    "# Evaluation\n",
    "r2_rf = r2_score(y_test, y_pred_rf)\n",
    "mae_rf = mean_absolute_error(y_test, y_pred_rf)\n",
    "mse_rf = mean_squared_error(y_test, y_pred_rf)\n",
    "\n",
    "print(f\"Random Forest R² score: {r2_rf:.4f}\")\n",
    "print(f\"Random Forest MAE: {mae_rf:.4f}\")\n",
    "print(f\"Random Forest MSE: {mse_rf:.4f}\")\n"
   ]
  },
  {
   "cell_type": "markdown",
   "id": "9a74eaa1",
   "metadata": {
    "papermill": {
     "duration": 0.006551,
     "end_time": "2025-04-25T16:24:20.568603",
     "exception": false,
     "start_time": "2025-04-25T16:24:20.562052",
     "status": "completed"
    },
    "tags": []
   },
   "source": [
    "# **Step 8: Model Fitting: XGBoost**"
   ]
  },
  {
   "cell_type": "code",
   "execution_count": 16,
   "id": "e8cf0d6c",
   "metadata": {
    "execution": {
     "iopub.execute_input": "2025-04-25T16:24:20.648999Z",
     "iopub.status.busy": "2025-04-25T16:24:20.648702Z",
     "iopub.status.idle": "2025-04-25T16:24:21.206113Z",
     "shell.execute_reply": "2025-04-25T16:24:21.205181Z"
    },
    "papermill": {
     "duration": 0.566726,
     "end_time": "2025-04-25T16:24:21.207629",
     "exception": false,
     "start_time": "2025-04-25T16:24:20.640903",
     "status": "completed"
    },
    "tags": []
   },
   "outputs": [
    {
     "data": {
      "text/html": [
       "<style>#sk-container-id-3 {color: black;background-color: white;}#sk-container-id-3 pre{padding: 0;}#sk-container-id-3 div.sk-toggleable {background-color: white;}#sk-container-id-3 label.sk-toggleable__label {cursor: pointer;display: block;width: 100%;margin-bottom: 0;padding: 0.3em;box-sizing: border-box;text-align: center;}#sk-container-id-3 label.sk-toggleable__label-arrow:before {content: \"▸\";float: left;margin-right: 0.25em;color: #696969;}#sk-container-id-3 label.sk-toggleable__label-arrow:hover:before {color: black;}#sk-container-id-3 div.sk-estimator:hover label.sk-toggleable__label-arrow:before {color: black;}#sk-container-id-3 div.sk-toggleable__content {max-height: 0;max-width: 0;overflow: hidden;text-align: left;background-color: #f0f8ff;}#sk-container-id-3 div.sk-toggleable__content pre {margin: 0.2em;color: black;border-radius: 0.25em;background-color: #f0f8ff;}#sk-container-id-3 input.sk-toggleable__control:checked~div.sk-toggleable__content {max-height: 200px;max-width: 100%;overflow: auto;}#sk-container-id-3 input.sk-toggleable__control:checked~label.sk-toggleable__label-arrow:before {content: \"▾\";}#sk-container-id-3 div.sk-estimator input.sk-toggleable__control:checked~label.sk-toggleable__label {background-color: #d4ebff;}#sk-container-id-3 div.sk-label input.sk-toggleable__control:checked~label.sk-toggleable__label {background-color: #d4ebff;}#sk-container-id-3 input.sk-hidden--visually {border: 0;clip: rect(1px 1px 1px 1px);clip: rect(1px, 1px, 1px, 1px);height: 1px;margin: -1px;overflow: hidden;padding: 0;position: absolute;width: 1px;}#sk-container-id-3 div.sk-estimator {font-family: monospace;background-color: #f0f8ff;border: 1px dotted black;border-radius: 0.25em;box-sizing: border-box;margin-bottom: 0.5em;}#sk-container-id-3 div.sk-estimator:hover {background-color: #d4ebff;}#sk-container-id-3 div.sk-parallel-item::after {content: \"\";width: 100%;border-bottom: 1px solid gray;flex-grow: 1;}#sk-container-id-3 div.sk-label:hover label.sk-toggleable__label {background-color: #d4ebff;}#sk-container-id-3 div.sk-serial::before {content: \"\";position: absolute;border-left: 1px solid gray;box-sizing: border-box;top: 0;bottom: 0;left: 50%;z-index: 0;}#sk-container-id-3 div.sk-serial {display: flex;flex-direction: column;align-items: center;background-color: white;padding-right: 0.2em;padding-left: 0.2em;position: relative;}#sk-container-id-3 div.sk-item {position: relative;z-index: 1;}#sk-container-id-3 div.sk-parallel {display: flex;align-items: stretch;justify-content: center;background-color: white;position: relative;}#sk-container-id-3 div.sk-item::before, #sk-container-id-3 div.sk-parallel-item::before {content: \"\";position: absolute;border-left: 1px solid gray;box-sizing: border-box;top: 0;bottom: 0;left: 50%;z-index: -1;}#sk-container-id-3 div.sk-parallel-item {display: flex;flex-direction: column;z-index: 1;position: relative;background-color: white;}#sk-container-id-3 div.sk-parallel-item:first-child::after {align-self: flex-end;width: 50%;}#sk-container-id-3 div.sk-parallel-item:last-child::after {align-self: flex-start;width: 50%;}#sk-container-id-3 div.sk-parallel-item:only-child::after {width: 0;}#sk-container-id-3 div.sk-dashed-wrapped {border: 1px dashed gray;margin: 0 0.4em 0.5em 0.4em;box-sizing: border-box;padding-bottom: 0.4em;background-color: white;}#sk-container-id-3 div.sk-label label {font-family: monospace;font-weight: bold;display: inline-block;line-height: 1.2em;}#sk-container-id-3 div.sk-label-container {text-align: center;}#sk-container-id-3 div.sk-container {/* jupyter's `normalize.less` sets `[hidden] { display: none; }` but bootstrap.min.css set `[hidden] { display: none !important; }` so we also need the `!important` here to be able to override the default hidden behavior on the sphinx rendered scikit-learn.org. See: https://github.com/scikit-learn/scikit-learn/issues/21755 */display: inline-block !important;position: relative;}#sk-container-id-3 div.sk-text-repr-fallback {display: none;}</style><div id=\"sk-container-id-3\" class=\"sk-top-container\"><div class=\"sk-text-repr-fallback\"><pre>XGBRegressor(base_score=None, booster=None, callbacks=None,\n",
       "             colsample_bylevel=None, colsample_bynode=None,\n",
       "             colsample_bytree=None, device=None, early_stopping_rounds=None,\n",
       "             enable_categorical=False, eval_metric=None, feature_types=None,\n",
       "             gamma=None, grow_policy=None, importance_type=None,\n",
       "             interaction_constraints=None, learning_rate=None, max_bin=None,\n",
       "             max_cat_threshold=None, max_cat_to_onehot=None,\n",
       "             max_delta_step=None, max_depth=None, max_leaves=None,\n",
       "             min_child_weight=None, missing=nan, monotone_constraints=None,\n",
       "             multi_strategy=None, n_estimators=None, n_jobs=None,\n",
       "             num_parallel_tree=None, random_state=42, ...)</pre><b>In a Jupyter environment, please rerun this cell to show the HTML representation or trust the notebook. <br />On GitHub, the HTML representation is unable to render, please try loading this page with nbviewer.org.</b></div><div class=\"sk-container\" hidden><div class=\"sk-item\"><div class=\"sk-estimator sk-toggleable\"><input class=\"sk-toggleable__control sk-hidden--visually\" id=\"sk-estimator-id-3\" type=\"checkbox\" checked><label for=\"sk-estimator-id-3\" class=\"sk-toggleable__label sk-toggleable__label-arrow\">XGBRegressor</label><div class=\"sk-toggleable__content\"><pre>XGBRegressor(base_score=None, booster=None, callbacks=None,\n",
       "             colsample_bylevel=None, colsample_bynode=None,\n",
       "             colsample_bytree=None, device=None, early_stopping_rounds=None,\n",
       "             enable_categorical=False, eval_metric=None, feature_types=None,\n",
       "             gamma=None, grow_policy=None, importance_type=None,\n",
       "             interaction_constraints=None, learning_rate=None, max_bin=None,\n",
       "             max_cat_threshold=None, max_cat_to_onehot=None,\n",
       "             max_delta_step=None, max_depth=None, max_leaves=None,\n",
       "             min_child_weight=None, missing=nan, monotone_constraints=None,\n",
       "             multi_strategy=None, n_estimators=None, n_jobs=None,\n",
       "             num_parallel_tree=None, random_state=42, ...)</pre></div></div></div></div></div>"
      ],
      "text/plain": [
       "XGBRegressor(base_score=None, booster=None, callbacks=None,\n",
       "             colsample_bylevel=None, colsample_bynode=None,\n",
       "             colsample_bytree=None, device=None, early_stopping_rounds=None,\n",
       "             enable_categorical=False, eval_metric=None, feature_types=None,\n",
       "             gamma=None, grow_policy=None, importance_type=None,\n",
       "             interaction_constraints=None, learning_rate=None, max_bin=None,\n",
       "             max_cat_threshold=None, max_cat_to_onehot=None,\n",
       "             max_delta_step=None, max_depth=None, max_leaves=None,\n",
       "             min_child_weight=None, missing=nan, monotone_constraints=None,\n",
       "             multi_strategy=None, n_estimators=None, n_jobs=None,\n",
       "             num_parallel_tree=None, random_state=42, ...)"
      ]
     },
     "execution_count": 16,
     "metadata": {},
     "output_type": "execute_result"
    }
   ],
   "source": [
    "# Define model\n",
    "xgb_model = xgb.XGBRegressor(objective='reg:squarederror', random_state=42)\n",
    "\n",
    "# Fit the model\n",
    "xgb_model.fit(X_train, y_train)"
   ]
  },
  {
   "cell_type": "markdown",
   "id": "2c96927b",
   "metadata": {
    "papermill": {
     "duration": 0.006492,
     "end_time": "2025-04-25T16:24:21.221126",
     "exception": false,
     "start_time": "2025-04-25T16:24:21.214634",
     "status": "completed"
    },
    "tags": []
   },
   "source": [
    "# Model Prediction on Test Data"
   ]
  },
  {
   "cell_type": "code",
   "execution_count": 17,
   "id": "6e8bd2e1",
   "metadata": {
    "execution": {
     "iopub.execute_input": "2025-04-25T16:24:21.235871Z",
     "iopub.status.busy": "2025-04-25T16:24:21.235542Z",
     "iopub.status.idle": "2025-04-25T16:24:21.275162Z",
     "shell.execute_reply": "2025-04-25T16:24:21.274465Z"
    },
    "papermill": {
     "duration": 0.049119,
     "end_time": "2025-04-25T16:24:21.277038",
     "exception": false,
     "start_time": "2025-04-25T16:24:21.227919",
     "status": "completed"
    },
    "tags": []
   },
   "outputs": [],
   "source": [
    "# Predict\n",
    "y_pred_xgb = xgb_model.predict(X_test)"
   ]
  },
  {
   "cell_type": "markdown",
   "id": "d38c512c",
   "metadata": {
    "papermill": {
     "duration": 0.006605,
     "end_time": "2025-04-25T16:24:21.290773",
     "exception": false,
     "start_time": "2025-04-25T16:24:21.284168",
     "status": "completed"
    },
    "tags": []
   },
   "source": [
    "# XGBoost Evaluating"
   ]
  },
  {
   "cell_type": "code",
   "execution_count": 18,
   "id": "d82495e7",
   "metadata": {
    "execution": {
     "iopub.execute_input": "2025-04-25T16:24:21.306009Z",
     "iopub.status.busy": "2025-04-25T16:24:21.305566Z",
     "iopub.status.idle": "2025-04-25T16:24:21.314320Z",
     "shell.execute_reply": "2025-04-25T16:24:21.313136Z"
    },
    "papermill": {
     "duration": 0.018233,
     "end_time": "2025-04-25T16:24:21.315842",
     "exception": false,
     "start_time": "2025-04-25T16:24:21.297609",
     "status": "completed"
    },
    "tags": []
   },
   "outputs": [
    {
     "name": "stdout",
     "output_type": "stream",
     "text": [
      "XGBoost R² score: 0.9100\n",
      "XGBoost MAE: 16028.7800\n",
      "XGBoost MSE: 721542683.5073\n"
     ]
    }
   ],
   "source": [
    "# Evaluate\n",
    "r2_xgb = r2_score(y_test, y_pred_xgb)\n",
    "mae_xgb = mean_absolute_error(y_test, y_pred_xgb)\n",
    "mse_xgb = mean_squared_error(y_test, y_pred_xgb)\n",
    "\n",
    "print(f\"XGBoost R² score: {r2_xgb:.4f}\")\n",
    "print(f\"XGBoost MAE: {mae_xgb:.4f}\")\n",
    "print(f\"XGBoost MSE: {mse_xgb:.4f}\")"
   ]
  },
  {
   "cell_type": "markdown",
   "id": "f5f6c323",
   "metadata": {
    "papermill": {
     "duration": 0.006565,
     "end_time": "2025-04-25T16:24:21.329470",
     "exception": false,
     "start_time": "2025-04-25T16:24:21.322905",
     "status": "completed"
    },
    "tags": []
   },
   "source": [
    "# **Finding Top important Features**"
   ]
  },
  {
   "cell_type": "code",
   "execution_count": 19,
   "id": "2ebdfbfc",
   "metadata": {
    "execution": {
     "iopub.execute_input": "2025-04-25T16:24:21.344588Z",
     "iopub.status.busy": "2025-04-25T16:24:21.344238Z",
     "iopub.status.idle": "2025-04-25T16:24:21.880097Z",
     "shell.execute_reply": "2025-04-25T16:24:21.878901Z"
    },
    "papermill": {
     "duration": 0.545774,
     "end_time": "2025-04-25T16:24:21.882291",
     "exception": false,
     "start_time": "2025-04-25T16:24:21.336517",
     "status": "completed"
    },
    "tags": []
   },
   "outputs": [
    {
     "data": {
      "image/png": "[encoded data removed]",
      "text/plain": [
       "<Figure size 640x480 with 1 Axes>"
      ]
     },
     "metadata": {},
     "output_type": "display_data"
    }
   ],
   "source": [
    "import matplotlib.pyplot as plt\n",
    "\n",
    "# Plot feature importance\n",
    "xgb.plot_importance(xgb_model, max_num_features=15, height=0.5)\n",
    "plt.title(\"Top 15 Important Features (XGBoost)\")\n",
    "plt.tight_layout()\n",
    "\n",
    "# Save the figure\n",
    "plt.savefig(\"/kaggle/working/feature_importance.png\")\n",
    "plt.show()"
   ]
  },
  {
   "cell_type": "code",
   "execution_count": null,
   "id": "7b1d2b8f",
   "metadata": {
    "papermill": {
     "duration": 0.009674,
     "end_time": "2025-04-25T16:24:21.901287",
     "exception": false,
     "start_time": "2025-04-25T16:24:21.891613",
     "status": "completed"
    },
    "tags": []
   },
   "outputs": [],
   "source": []
  }
 ],
 "metadata": {
  "kaggle": {
   "accelerator": "none",
   "dataSources": [
    {
     "datasetId": 51153,
     "sourceId": 95503,
     "sourceType": "datasetVersion"
    }
   ],
   "dockerImageVersionId": 31012,
   "isGpuEnabled": false,
   "isInternetEnabled": true,
   "language": "python",
   "sourceType": "notebook"
  },
  "kernelspec": {
   "display_name": "Python 3",
   "language": "python",
   "name": "python3"
  },
  "language_info": {
   "codemirror_mode": {
    "name": "ipython",
    "version": 3
   },
   "file_extension": ".py",
   "mimetype": "text/x-python",
   "name": "python",
   "nbconvert_exporter": "python",
   "pygments_lexer": "ipython3",
   "version": "3.11.11"
  },
  "papermill": {
   "default_parameters": {},
   "duration": 18.048281,
   "end_time": "2025-04-25T16:24:22.630246",
   "environment_variables": {},
   "exception": null,
   "input_path": "__notebook__.ipynb",
   "output_path": "__notebook__.ipynb",
   "parameters": {},
   "start_time": "2025-04-25T16:24:04.581965",
   "version": "2.6.0"
  }
 },
 "nbformat": 4,
 "nbformat_minor": 5
}
