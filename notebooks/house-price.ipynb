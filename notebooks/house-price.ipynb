{
 "cells": [
  {
   "cell_type": "code",
   "execution_count": 1,
   "id": "bacfc3d5",
   "metadata": {
    "_cell_guid": "b1076dfc-b9ad-4769-8c92-a6c4dae69d19",
    "_uuid": "8f2839f25d086af736a60e9eeb907d3b93b6e0e5",
    "execution": {
     "iopub.execute_input": "2025-04-24T17:01:19.691928Z",
     "iopub.status.busy": "2025-04-24T17:01:19.691627Z",
     "iopub.status.idle": "2025-04-24T17:01:21.664116Z",
     "shell.execute_reply": "2025-04-24T17:01:21.663127Z"
    },
    "papermill": {
     "duration": 1.979604,
     "end_time": "2025-04-24T17:01:21.665700",
     "exception": false,
     "start_time": "2025-04-24T17:01:19.686096",
     "status": "completed"
    },
    "tags": []
   },
   "outputs": [
    {
     "name": "stdout",
     "output_type": "stream",
     "text": [
      "/kaggle/input/ames-housing-dataset/AmesHousing.csv\n"
     ]
    }
   ],
   "source": [
    "# This Python 3 environment comes with many helpful analytics libraries installed\n",
    "# It is defined by the kaggle/python Docker image: https://github.com/kaggle/docker-python\n",
    "# For example, here's several helpful packages to load\n",
    "\n",
    "import numpy as np # linear algebra\n",
    "import pandas as pd # data processing, CSV file I/O (e.g. pd.read_csv)\n",
    "\n",
    "# Input data files are available in the read-only \"../input/\" directory\n",
    "# For example, running this (by clicking run or pressing Shift+Enter) will list all files under the input directory\n",
    "\n",
    "import os\n",
    "for dirname, _, filenames in os.walk('/kaggle/input'):\n",
    "    for filename in filenames:\n",
    "        print(os.path.join(dirname, filename))\n",
    "\n",
    "# You can write up to 20GB to the current directory (/kaggle/working/) that gets preserved as output when you create a version using \"Save & Run All\" \n",
    "# You can also write temporary files to /kaggle/temp/, but they won't be saved outside of the current session"
   ]
  },
  {
   "cell_type": "markdown",
   "id": "78708cbc",
   "metadata": {
    "papermill": {
     "duration": 0.003453,
     "end_time": "2025-04-24T17:01:21.673357",
     "exception": false,
     "start_time": "2025-04-24T17:01:21.669904",
     "status": "completed"
    },
    "tags": []
   },
   "source": [
    "# **Libraries**"
   ]
  },
  {
   "cell_type": "code",
   "execution_count": 2,
   "id": "c5cda25e",
   "metadata": {
    "execution": {
     "iopub.execute_input": "2025-04-24T17:01:21.681964Z",
     "iopub.status.busy": "2025-04-24T17:01:21.681499Z",
     "iopub.status.idle": "2025-04-24T17:01:23.651637Z",
     "shell.execute_reply": "2025-04-24T17:01:23.650911Z"
    },
    "papermill": {
     "duration": 1.976134,
     "end_time": "2025-04-24T17:01:23.653178",
     "exception": false,
     "start_time": "2025-04-24T17:01:21.677044",
     "status": "completed"
    },
    "tags": []
   },
   "outputs": [],
   "source": [
    "import pandas as pd\n",
    "import os\n",
    "\n",
    "from sklearn.preprocessing import LabelEncoder\n",
    "from sklearn.model_selection import train_test_split\n",
    "from sklearn.linear_model import LinearRegression\n",
    "from sklearn.metrics import mean_absolute_error, mean_squared_error, r2_score\n"
   ]
  },
  {
   "cell_type": "markdown",
   "id": "397e5094",
   "metadata": {
    "papermill": {
     "duration": 0.003498,
     "end_time": "2025-04-24T17:01:23.660669",
     "exception": false,
     "start_time": "2025-04-24T17:01:23.657171",
     "status": "completed"
    },
    "tags": []
   },
   "source": [
    "# **Dataset Loading**"
   ]
  },
  {
   "cell_type": "code",
   "execution_count": 3,
   "id": "a0896fb9",
   "metadata": {
    "execution": {
     "iopub.execute_input": "2025-04-24T17:01:23.669563Z",
     "iopub.status.busy": "2025-04-24T17:01:23.668652Z",
     "iopub.status.idle": "2025-04-24T17:01:23.740509Z",
     "shell.execute_reply": "2025-04-24T17:01:23.739607Z"
    },
    "papermill": {
     "duration": 0.077927,
     "end_time": "2025-04-24T17:01:23.742111",
     "exception": false,
     "start_time": "2025-04-24T17:01:23.664184",
     "status": "completed"
    },
    "tags": []
   },
   "outputs": [],
   "source": [
    "# Try to load from Kaggle path\n",
    "if os.path.exists('/kaggle/input/ames-housing-dataset/AmesHousing.csv'):\n",
    "    path = '/kaggle/input/ames-housing-dataset/AmesHousing.csv'\n",
    "# Else, load from local repo (for example, if running locally or in Colab)\n",
    "else:\n",
    "    path = 'data/AmesHousing.csv'\n",
    "\n",
    "# Load dataset\n",
    "df = pd.read_csv(path)"
   ]
  },
  {
   "cell_type": "markdown",
   "id": "db42937f",
   "metadata": {
    "papermill": {
     "duration": 0.003409,
     "end_time": "2025-04-24T17:01:23.749391",
     "exception": false,
     "start_time": "2025-04-24T17:01:23.745982",
     "status": "completed"
    },
    "tags": []
   },
   "source": [
    "# **Step 1: Dataset Overview**"
   ]
  },
  {
   "cell_type": "code",
   "execution_count": 4,
   "id": "f2cefbd0",
   "metadata": {
    "execution": {
     "iopub.execute_input": "2025-04-24T17:01:23.757883Z",
     "iopub.status.busy": "2025-04-24T17:01:23.757531Z",
     "iopub.status.idle": "2025-04-24T17:01:23.873987Z",
     "shell.execute_reply": "2025-04-24T17:01:23.872762Z"
    },
    "papermill": {
     "duration": 0.122329,
     "end_time": "2025-04-24T17:01:23.875257",
     "exception": false,
     "start_time": "2025-04-24T17:01:23.752928",
     "status": "completed"
    },
    "tags": []
   },
   "outputs": [
    {
     "name": "stdout",
     "output_type": "stream",
     "text": [
      "Dataset shape: (2930, 82)\n",
      "\n",
      "Data types in dataset:\n",
      "\n",
      "object     43\n",
      "int64      28\n",
      "float64    11\n",
      "Name: count, dtype: int64\n",
      "\n",
      "Missing values in dataset:\n",
      "\n",
      "Pool QC           2917\n",
      "Misc Feature      2824\n",
      "Alley             2732\n",
      "Fence             2358\n",
      "Mas Vnr Type      1775\n",
      "Fireplace Qu      1422\n",
      "Lot Frontage       490\n",
      "Garage Cond        159\n",
      "Garage Qual        159\n",
      "Garage Finish      159\n",
      "Garage Yr Blt      159\n",
      "Garage Type        157\n",
      "Bsmt Exposure       83\n",
      "BsmtFin Type 2      81\n",
      "Bsmt Cond           80\n",
      "Bsmt Qual           80\n",
      "BsmtFin Type 1      80\n",
      "Mas Vnr Area        23\n",
      "Bsmt Half Bath       2\n",
      "Bsmt Full Bath       2\n",
      "BsmtFin SF 1         1\n",
      "Garage Cars          1\n",
      "Garage Area          1\n",
      "Total Bsmt SF        1\n",
      "Bsmt Unf SF          1\n",
      "BsmtFin SF 2         1\n",
      "Electrical           1\n",
      "dtype: int64\n",
      "\n",
      "Basic statistics of numerical features:\n",
      "            Order           PID  MS SubClass  Lot Frontage       Lot Area  \\\n",
      "count  2930.00000  2.930000e+03  2930.000000   2440.000000    2930.000000   \n",
      "mean   1465.50000  7.144645e+08    57.387372     69.224590   10147.921843   \n",
      "std     845.96247  1.887308e+08    42.638025     23.365335    7880.017759   \n",
      "min       1.00000  5.263011e+08    20.000000     21.000000    1300.000000   \n",
      "25%     733.25000  5.284770e+08    20.000000     58.000000    7440.250000   \n",
      "50%    1465.50000  5.354536e+08    50.000000     68.000000    9436.500000   \n",
      "75%    2197.75000  9.071811e+08    70.000000     80.000000   11555.250000   \n",
      "max    2930.00000  1.007100e+09   190.000000    313.000000  215245.000000   \n",
      "\n",
      "       Overall Qual  Overall Cond   Year Built  Year Remod/Add  Mas Vnr Area  \\\n",
      "count   2930.000000   2930.000000  2930.000000     2930.000000   2907.000000   \n",
      "mean       6.094881      5.563140  1971.356314     1984.266553    101.896801   \n",
      "std        1.411026      1.111537    30.245361       20.860286    179.112611   \n",
      "min        1.000000      1.000000  1872.000000     1950.000000      0.000000   \n",
      "25%        5.000000      5.000000  1954.000000     1965.000000      0.000000   \n",
      "50%        6.000000      5.000000  1973.000000     1993.000000      0.000000   \n",
      "75%        7.000000      6.000000  2001.000000     2004.000000    164.000000   \n",
      "max       10.000000      9.000000  2010.000000     2010.000000   1600.000000   \n",
      "\n",
      "       ...  Wood Deck SF  Open Porch SF  Enclosed Porch   3Ssn Porch  \\\n",
      "count  ...   2930.000000    2930.000000     2930.000000  2930.000000   \n",
      "mean   ...     93.751877      47.533447       23.011604     2.592491   \n",
      "std    ...    126.361562      67.483400       64.139059    25.141331   \n",
      "min    ...      0.000000       0.000000        0.000000     0.000000   \n",
      "25%    ...      0.000000       0.000000        0.000000     0.000000   \n",
      "50%    ...      0.000000      27.000000        0.000000     0.000000   \n",
      "75%    ...    168.000000      70.000000        0.000000     0.000000   \n",
      "max    ...   1424.000000     742.000000     1012.000000   508.000000   \n",
      "\n",
      "       Screen Porch    Pool Area      Misc Val      Mo Sold      Yr Sold  \\\n",
      "count   2930.000000  2930.000000   2930.000000  2930.000000  2930.000000   \n",
      "mean      16.002048     2.243345     50.635154     6.216041  2007.790444   \n",
      "std       56.087370    35.597181    566.344288     2.714492     1.316613   \n",
      "min        0.000000     0.000000      0.000000     1.000000  2006.000000   \n",
      "25%        0.000000     0.000000      0.000000     4.000000  2007.000000   \n",
      "50%        0.000000     0.000000      0.000000     6.000000  2008.000000   \n",
      "75%        0.000000     0.000000      0.000000     8.000000  2009.000000   \n",
      "max      576.000000   800.000000  17000.000000    12.000000  2010.000000   \n",
      "\n",
      "           SalePrice  \n",
      "count    2930.000000  \n",
      "mean   180796.060068  \n",
      "std     79886.692357  \n",
      "min     12789.000000  \n",
      "25%    129500.000000  \n",
      "50%    160000.000000  \n",
      "75%    213500.000000  \n",
      "max    755000.000000  \n",
      "\n",
      "[8 rows x 39 columns]\n"
     ]
    },
    {
     "data": {
      "text/html": [
       "<div>\n",
       "<style scoped>\n",
       "    .dataframe tbody tr th:only-of-type {\n",
       "        vertical-align: middle;\n",
       "    }\n",
       "\n",
       "    .dataframe tbody tr th {\n",
       "        vertical-align: top;\n",
       "    }\n",
       "\n",
       "    .dataframe thead th {\n",
       "        text-align: right;\n",
       "    }\n",
       "</style>\n",
       "<table border=\"1\" class=\"dataframe\">\n",
       "  <thead>\n",
       "    <tr style=\"text-align: right;\">\n",
       "      <th></th>\n",
       "      <th>Order</th>\n",
       "      <th>PID</th>\n",
       "      <th>MS SubClass</th>\n",
       "      <th>MS Zoning</th>\n",
       "      <th>Lot Frontage</th>\n",
       "      <th>Lot Area</th>\n",
       "      <th>Street</th>\n",
       "      <th>Alley</th>\n",
       "      <th>Lot Shape</th>\n",
       "      <th>Land Contour</th>\n",
       "      <th>...</th>\n",
       "      <th>Pool Area</th>\n",
       "      <th>Pool QC</th>\n",
       "      <th>Fence</th>\n",
       "      <th>Misc Feature</th>\n",
       "      <th>Misc Val</th>\n",
       "      <th>Mo Sold</th>\n",
       "      <th>Yr Sold</th>\n",
       "      <th>Sale Type</th>\n",
       "      <th>Sale Condition</th>\n",
       "      <th>SalePrice</th>\n",
       "    </tr>\n",
       "  </thead>\n",
       "  <tbody>\n",
       "    <tr>\n",
       "      <th>0</th>\n",
       "      <td>1</td>\n",
       "      <td>526301100</td>\n",
       "      <td>20</td>\n",
       "      <td>RL</td>\n",
       "      <td>141.0</td>\n",
       "      <td>31770</td>\n",
       "      <td>Pave</td>\n",
       "      <td>NaN</td>\n",
       "      <td>IR1</td>\n",
       "      <td>Lvl</td>\n",
       "      <td>...</td>\n",
       "      <td>0</td>\n",
       "      <td>NaN</td>\n",
       "      <td>NaN</td>\n",
       "      <td>NaN</td>\n",
       "      <td>0</td>\n",
       "      <td>5</td>\n",
       "      <td>2010</td>\n",
       "      <td>WD</td>\n",
       "      <td>Normal</td>\n",
       "      <td>215000</td>\n",
       "    </tr>\n",
       "    <tr>\n",
       "      <th>1</th>\n",
       "      <td>2</td>\n",
       "      <td>526350040</td>\n",
       "      <td>20</td>\n",
       "      <td>RH</td>\n",
       "      <td>80.0</td>\n",
       "      <td>11622</td>\n",
       "      <td>Pave</td>\n",
       "      <td>NaN</td>\n",
       "      <td>Reg</td>\n",
       "      <td>Lvl</td>\n",
       "      <td>...</td>\n",
       "      <td>0</td>\n",
       "      <td>NaN</td>\n",
       "      <td>MnPrv</td>\n",
       "      <td>NaN</td>\n",
       "      <td>0</td>\n",
       "      <td>6</td>\n",
       "      <td>2010</td>\n",
       "      <td>WD</td>\n",
       "      <td>Normal</td>\n",
       "      <td>105000</td>\n",
       "    </tr>\n",
       "    <tr>\n",
       "      <th>2</th>\n",
       "      <td>3</td>\n",
       "      <td>526351010</td>\n",
       "      <td>20</td>\n",
       "      <td>RL</td>\n",
       "      <td>81.0</td>\n",
       "      <td>14267</td>\n",
       "      <td>Pave</td>\n",
       "      <td>NaN</td>\n",
       "      <td>IR1</td>\n",
       "      <td>Lvl</td>\n",
       "      <td>...</td>\n",
       "      <td>0</td>\n",
       "      <td>NaN</td>\n",
       "      <td>NaN</td>\n",
       "      <td>Gar2</td>\n",
       "      <td>12500</td>\n",
       "      <td>6</td>\n",
       "      <td>2010</td>\n",
       "      <td>WD</td>\n",
       "      <td>Normal</td>\n",
       "      <td>172000</td>\n",
       "    </tr>\n",
       "    <tr>\n",
       "      <th>3</th>\n",
       "      <td>4</td>\n",
       "      <td>526353030</td>\n",
       "      <td>20</td>\n",
       "      <td>RL</td>\n",
       "      <td>93.0</td>\n",
       "      <td>11160</td>\n",
       "      <td>Pave</td>\n",
       "      <td>NaN</td>\n",
       "      <td>Reg</td>\n",
       "      <td>Lvl</td>\n",
       "      <td>...</td>\n",
       "      <td>0</td>\n",
       "      <td>NaN</td>\n",
       "      <td>NaN</td>\n",
       "      <td>NaN</td>\n",
       "      <td>0</td>\n",
       "      <td>4</td>\n",
       "      <td>2010</td>\n",
       "      <td>WD</td>\n",
       "      <td>Normal</td>\n",
       "      <td>244000</td>\n",
       "    </tr>\n",
       "    <tr>\n",
       "      <th>4</th>\n",
       "      <td>5</td>\n",
       "      <td>527105010</td>\n",
       "      <td>60</td>\n",
       "      <td>RL</td>\n",
       "      <td>74.0</td>\n",
       "      <td>13830</td>\n",
       "      <td>Pave</td>\n",
       "      <td>NaN</td>\n",
       "      <td>IR1</td>\n",
       "      <td>Lvl</td>\n",
       "      <td>...</td>\n",
       "      <td>0</td>\n",
       "      <td>NaN</td>\n",
       "      <td>MnPrv</td>\n",
       "      <td>NaN</td>\n",
       "      <td>0</td>\n",
       "      <td>3</td>\n",
       "      <td>2010</td>\n",
       "      <td>WD</td>\n",
       "      <td>Normal</td>\n",
       "      <td>189900</td>\n",
       "    </tr>\n",
       "  </tbody>\n",
       "</table>\n",
       "<p>5 rows × 82 columns</p>\n",
       "</div>"
      ],
      "text/plain": [
       "   Order        PID  MS SubClass MS Zoning  Lot Frontage  Lot Area Street  \\\n",
       "0      1  526301100           20        RL         141.0     31770   Pave   \n",
       "1      2  526350040           20        RH          80.0     11622   Pave   \n",
       "2      3  526351010           20        RL          81.0     14267   Pave   \n",
       "3      4  526353030           20        RL          93.0     11160   Pave   \n",
       "4      5  527105010           60        RL          74.0     13830   Pave   \n",
       "\n",
       "  Alley Lot Shape Land Contour  ... Pool Area Pool QC  Fence Misc Feature  \\\n",
       "0   NaN       IR1          Lvl  ...         0     NaN    NaN          NaN   \n",
       "1   NaN       Reg          Lvl  ...         0     NaN  MnPrv          NaN   \n",
       "2   NaN       IR1          Lvl  ...         0     NaN    NaN         Gar2   \n",
       "3   NaN       Reg          Lvl  ...         0     NaN    NaN          NaN   \n",
       "4   NaN       IR1          Lvl  ...         0     NaN  MnPrv          NaN   \n",
       "\n",
       "  Misc Val Mo Sold Yr Sold Sale Type  Sale Condition  SalePrice  \n",
       "0        0       5    2010       WD           Normal     215000  \n",
       "1        0       6    2010       WD           Normal     105000  \n",
       "2    12500       6    2010       WD           Normal     172000  \n",
       "3        0       4    2010       WD           Normal     244000  \n",
       "4        0       3    2010       WD           Normal     189900  \n",
       "\n",
       "[5 rows x 82 columns]"
      ]
     },
     "execution_count": 4,
     "metadata": {},
     "output_type": "execute_result"
    }
   ],
   "source": [
    "# Display dataset shape\n",
    "print(\"Dataset shape:\", df.shape)\n",
    "\n",
    "# Display data types count\n",
    "print(\"\\nData types in dataset:\\n\")\n",
    "print(df.dtypes.value_counts())\n",
    "\n",
    "# Display number of missing values (sorted)\n",
    "missing_values = df.isnull().sum()\n",
    "missing_values = missing_values[missing_values > 0].sort_values(ascending=False)\n",
    "\n",
    "print(\"\\nMissing values in dataset:\\n\")\n",
    "print(missing_values)\n",
    "\n",
    "# Basic statistics summary of numerical features\n",
    "print(\"\\nBasic statistics of numerical features:\")\n",
    "print(df.describe())\n",
    "\n",
    "# Show first few rows of the dataset\n",
    "df.head()\n"
   ]
  },
  {
   "cell_type": "markdown",
   "id": "b2faf2f6",
   "metadata": {
    "papermill": {
     "duration": 0.003708,
     "end_time": "2025-04-24T17:01:23.883176",
     "exception": false,
     "start_time": "2025-04-24T17:01:23.879468",
     "status": "completed"
    },
    "tags": []
   },
   "source": [
    "# **Step 2: Dataset Cleaning (Handeling Missing Values)**"
   ]
  },
  {
   "cell_type": "markdown",
   "id": "79552351",
   "metadata": {
    "papermill": {
     "duration": 0.003652,
     "end_time": "2025-04-24T17:01:23.890845",
     "exception": false,
     "start_time": "2025-04-24T17:01:23.887193",
     "status": "completed"
    },
    "tags": []
   },
   "source": [
    "\n",
    "\n",
    "1. Drop columns with too many missing values\n",
    "2. Fill categorical NaNs with \"None\n",
    "3. Fill numerical NaNs with 0\n",
    "4. Fill Lot Frontage with the median\n",
    "\n"
   ]
  },
  {
   "cell_type": "code",
   "execution_count": 5,
   "id": "b20ac0c3",
   "metadata": {
    "execution": {
     "iopub.execute_input": "2025-04-24T17:01:23.899653Z",
     "iopub.status.busy": "2025-04-24T17:01:23.899304Z",
     "iopub.status.idle": "2025-04-24T17:01:23.918234Z",
     "shell.execute_reply": "2025-04-24T17:01:23.917411Z"
    },
    "papermill": {
     "duration": 0.025145,
     "end_time": "2025-04-24T17:01:23.919738",
     "exception": false,
     "start_time": "2025-04-24T17:01:23.894593",
     "status": "completed"
    },
    "tags": []
   },
   "outputs": [],
   "source": [
    "# Drop columns with too many missing values\n",
    "df.drop(columns=[\"Pool QC\", \"Misc Feature\", \"Alley\", \"Fence\"], inplace=True)\n",
    "\n",
    "# Fill categorical NaNs with \"None\"\n",
    "categorical_cols_fill_none = [\n",
    "    \"Mas Vnr Type\", \"Fireplace Qu\", \"Garage Type\", \"Garage Finish\",\n",
    "    \"Garage Qual\", \"Garage Cond\", \"Bsmt Exposure\", \"BsmtFin Type 1\",\n",
    "    \"BsmtFin Type 2\", \"Bsmt Cond\", \"Bsmt Qual\", \"Electrical\"\n",
    "]\n",
    "for col in categorical_cols_fill_none:\n",
    "    df[col] = df[col].fillna(\"None\")\n",
    "\n",
    "# Fill numerical NaNs with 0 (where appropriate)\n",
    "numerical_cols_fill_zero = [\n",
    "    \"Mas Vnr Area\", \"Garage Yr Blt\", \"Bsmt Half Bath\", \"Bsmt Full Bath\",\n",
    "    \"BsmtFin SF 1\", \"BsmtFin SF 2\", \"Bsmt Unf SF\", \"Total Bsmt SF\",\n",
    "    \"Garage Cars\", \"Garage Area\"\n",
    "]\n",
    "for col in numerical_cols_fill_zero:\n",
    "    df[col] = df[col].fillna(0)\n",
    "\n",
    "# Optionally fill Lot Frontage with the median (more meaningful than mean)\n",
    "df[\"Lot Frontage\"] = df[\"Lot Frontage\"].fillna(df[\"Lot Frontage\"].median())\n"
   ]
  },
  {
   "cell_type": "markdown",
   "id": "3d7d8285",
   "metadata": {
    "papermill": {
     "duration": 0.003934,
     "end_time": "2025-04-24T17:01:23.927977",
     "exception": false,
     "start_time": "2025-04-24T17:01:23.924043",
     "status": "completed"
    },
    "tags": []
   },
   "source": [
    "# **Step 3: Encoding Categorical Features**"
   ]
  },
  {
   "cell_type": "code",
   "execution_count": 6,
   "id": "4b6bc72f",
   "metadata": {
    "execution": {
     "iopub.execute_input": "2025-04-24T17:01:23.937634Z",
     "iopub.status.busy": "2025-04-24T17:01:23.937278Z",
     "iopub.status.idle": "2025-04-24T17:01:23.980308Z",
     "shell.execute_reply": "2025-04-24T17:01:23.979556Z"
    },
    "papermill": {
     "duration": 0.049693,
     "end_time": "2025-04-24T17:01:23.981798",
     "exception": false,
     "start_time": "2025-04-24T17:01:23.932105",
     "status": "completed"
    },
    "tags": []
   },
   "outputs": [],
   "source": [
    "# Identify categorical columns\n",
    "categorical_cols = df.select_dtypes(include=[\"object\"]).columns\n",
    "\n",
    "# One-Hot Encoding\n",
    "df = pd.get_dummies(df, columns=categorical_cols, drop_first=True)"
   ]
  },
  {
   "cell_type": "markdown",
   "id": "601a3268",
   "metadata": {
    "papermill": {
     "duration": 0.00391,
     "end_time": "2025-04-24T17:01:23.989864",
     "exception": false,
     "start_time": "2025-04-24T17:01:23.985954",
     "status": "completed"
    },
    "tags": []
   },
   "source": [
    "# **Step 4: Define Target and Features**"
   ]
  },
  {
   "cell_type": "code",
   "execution_count": 7,
   "id": "58144c42",
   "metadata": {
    "execution": {
     "iopub.execute_input": "2025-04-24T17:01:23.999274Z",
     "iopub.status.busy": "2025-04-24T17:01:23.998969Z",
     "iopub.status.idle": "2025-04-24T17:01:24.006907Z",
     "shell.execute_reply": "2025-04-24T17:01:24.006148Z"
    },
    "papermill": {
     "duration": 0.014202,
     "end_time": "2025-04-24T17:01:24.008171",
     "exception": false,
     "start_time": "2025-04-24T17:01:23.993969",
     "status": "completed"
    },
    "tags": []
   },
   "outputs": [],
   "source": [
    "# Define target and features\n",
    "X = df.drop(\"SalePrice\", axis=1)\n",
    "y = df[\"SalePrice\"]"
   ]
  },
  {
   "cell_type": "markdown",
   "id": "a4bd30a8",
   "metadata": {
    "papermill": {
     "duration": 0.003774,
     "end_time": "2025-04-24T17:01:24.016122",
     "exception": false,
     "start_time": "2025-04-24T17:01:24.012348",
     "status": "completed"
    },
    "tags": []
   },
   "source": [
    "# **Step 5: Spiliting Data into Train and Test**"
   ]
  },
  {
   "cell_type": "code",
   "execution_count": 8,
   "id": "757158fc",
   "metadata": {
    "execution": {
     "iopub.execute_input": "2025-04-24T17:01:24.025169Z",
     "iopub.status.busy": "2025-04-24T17:01:24.024864Z",
     "iopub.status.idle": "2025-04-24T17:01:24.035352Z",
     "shell.execute_reply": "2025-04-24T17:01:24.034304Z"
    },
    "papermill": {
     "duration": 0.016964,
     "end_time": "2025-04-24T17:01:24.037025",
     "exception": false,
     "start_time": "2025-04-24T17:01:24.020061",
     "status": "completed"
    },
    "tags": []
   },
   "outputs": [],
   "source": [
    "# Split the data\n",
    "X_train, X_test, y_train, y_test = train_test_split(\n",
    "    X, y, test_size=0.2, random_state=42\n",
    ")"
   ]
  },
  {
   "cell_type": "markdown",
   "id": "828c5b36",
   "metadata": {
    "papermill": {
     "duration": 0.004424,
     "end_time": "2025-04-24T17:01:24.045788",
     "exception": false,
     "start_time": "2025-04-24T17:01:24.041364",
     "status": "completed"
    },
    "tags": []
   },
   "source": [
    "# **Step 6: Model Fitting: Linear Regression**"
   ]
  },
  {
   "cell_type": "code",
   "execution_count": 9,
   "id": "3f4ce17c",
   "metadata": {
    "execution": {
     "iopub.execute_input": "2025-04-24T17:01:24.055670Z",
     "iopub.status.busy": "2025-04-24T17:01:24.054883Z",
     "iopub.status.idle": "2025-04-24T17:01:24.278331Z",
     "shell.execute_reply": "2025-04-24T17:01:24.277648Z"
    },
    "papermill": {
     "duration": 0.230364,
     "end_time": "2025-04-24T17:01:24.280221",
     "exception": false,
     "start_time": "2025-04-24T17:01:24.049857",
     "status": "completed"
    },
    "tags": []
   },
   "outputs": [
    {
     "data": {
      "text/html": [
       "<style>#sk-container-id-1 {color: black;background-color: white;}#sk-container-id-1 pre{padding: 0;}#sk-container-id-1 div.sk-toggleable {background-color: white;}#sk-container-id-1 label.sk-toggleable__label {cursor: pointer;display: block;width: 100%;margin-bottom: 0;padding: 0.3em;box-sizing: border-box;text-align: center;}#sk-container-id-1 label.sk-toggleable__label-arrow:before {content: \"▸\";float: left;margin-right: 0.25em;color: #696969;}#sk-container-id-1 label.sk-toggleable__label-arrow:hover:before {color: black;}#sk-container-id-1 div.sk-estimator:hover label.sk-toggleable__label-arrow:before {color: black;}#sk-container-id-1 div.sk-toggleable__content {max-height: 0;max-width: 0;overflow: hidden;text-align: left;background-color: #f0f8ff;}#sk-container-id-1 div.sk-toggleable__content pre {margin: 0.2em;color: black;border-radius: 0.25em;background-color: #f0f8ff;}#sk-container-id-1 input.sk-toggleable__control:checked~div.sk-toggleable__content {max-height: 200px;max-width: 100%;overflow: auto;}#sk-container-id-1 input.sk-toggleable__control:checked~label.sk-toggleable__label-arrow:before {content: \"▾\";}#sk-container-id-1 div.sk-estimator input.sk-toggleable__control:checked~label.sk-toggleable__label {background-color: #d4ebff;}#sk-container-id-1 div.sk-label input.sk-toggleable__control:checked~label.sk-toggleable__label {background-color: #d4ebff;}#sk-container-id-1 input.sk-hidden--visually {border: 0;clip: rect(1px 1px 1px 1px);clip: rect(1px, 1px, 1px, 1px);height: 1px;margin: -1px;overflow: hidden;padding: 0;position: absolute;width: 1px;}#sk-container-id-1 div.sk-estimator {font-family: monospace;background-color: #f0f8ff;border: 1px dotted black;border-radius: 0.25em;box-sizing: border-box;margin-bottom: 0.5em;}#sk-container-id-1 div.sk-estimator:hover {background-color: #d4ebff;}#sk-container-id-1 div.sk-parallel-item::after {content: \"\";width: 100%;border-bottom: 1px solid gray;flex-grow: 1;}#sk-container-id-1 div.sk-label:hover label.sk-toggleable__label {background-color: #d4ebff;}#sk-container-id-1 div.sk-serial::before {content: \"\";position: absolute;border-left: 1px solid gray;box-sizing: border-box;top: 0;bottom: 0;left: 50%;z-index: 0;}#sk-container-id-1 div.sk-serial {display: flex;flex-direction: column;align-items: center;background-color: white;padding-right: 0.2em;padding-left: 0.2em;position: relative;}#sk-container-id-1 div.sk-item {position: relative;z-index: 1;}#sk-container-id-1 div.sk-parallel {display: flex;align-items: stretch;justify-content: center;background-color: white;position: relative;}#sk-container-id-1 div.sk-item::before, #sk-container-id-1 div.sk-parallel-item::before {content: \"\";position: absolute;border-left: 1px solid gray;box-sizing: border-box;top: 0;bottom: 0;left: 50%;z-index: -1;}#sk-container-id-1 div.sk-parallel-item {display: flex;flex-direction: column;z-index: 1;position: relative;background-color: white;}#sk-container-id-1 div.sk-parallel-item:first-child::after {align-self: flex-end;width: 50%;}#sk-container-id-1 div.sk-parallel-item:last-child::after {align-self: flex-start;width: 50%;}#sk-container-id-1 div.sk-parallel-item:only-child::after {width: 0;}#sk-container-id-1 div.sk-dashed-wrapped {border: 1px dashed gray;margin: 0 0.4em 0.5em 0.4em;box-sizing: border-box;padding-bottom: 0.4em;background-color: white;}#sk-container-id-1 div.sk-label label {font-family: monospace;font-weight: bold;display: inline-block;line-height: 1.2em;}#sk-container-id-1 div.sk-label-container {text-align: center;}#sk-container-id-1 div.sk-container {/* jupyter's `normalize.less` sets `[hidden] { display: none; }` but bootstrap.min.css set `[hidden] { display: none !important; }` so we also need the `!important` here to be able to override the default hidden behavior on the sphinx rendered scikit-learn.org. See: https://github.com/scikit-learn/scikit-learn/issues/21755 */display: inline-block !important;position: relative;}#sk-container-id-1 div.sk-text-repr-fallback {display: none;}</style><div id=\"sk-container-id-1\" class=\"sk-top-container\"><div class=\"sk-text-repr-fallback\"><pre>LinearRegression()</pre><b>In a Jupyter environment, please rerun this cell to show the HTML representation or trust the notebook. <br />On GitHub, the HTML representation is unable to render, please try loading this page with nbviewer.org.</b></div><div class=\"sk-container\" hidden><div class=\"sk-item\"><div class=\"sk-estimator sk-toggleable\"><input class=\"sk-toggleable__control sk-hidden--visually\" id=\"sk-estimator-id-1\" type=\"checkbox\" checked><label for=\"sk-estimator-id-1\" class=\"sk-toggleable__label sk-toggleable__label-arrow\">LinearRegression</label><div class=\"sk-toggleable__content\"><pre>LinearRegression()</pre></div></div></div></div></div>"
      ],
      "text/plain": [
       "LinearRegression()"
      ]
     },
     "execution_count": 9,
     "metadata": {},
     "output_type": "execute_result"
    }
   ],
   "source": [
    "# Create a Linear Regression model\n",
    "model = LinearRegression()\n",
    "\n",
    "# Fit the model to the training data\n",
    "model.fit(X_train, y_train)"
   ]
  },
  {
   "cell_type": "markdown",
   "id": "6c68112a",
   "metadata": {
    "papermill": {
     "duration": 0.006702,
     "end_time": "2025-04-24T17:01:24.294008",
     "exception": false,
     "start_time": "2025-04-24T17:01:24.287306",
     "status": "completed"
    },
    "tags": []
   },
   "source": [
    "# **Step 7: Model Prediction on Test Data**"
   ]
  },
  {
   "cell_type": "code",
   "execution_count": 10,
   "id": "d1846753",
   "metadata": {
    "execution": {
     "iopub.execute_input": "2025-04-24T17:01:24.308990Z",
     "iopub.status.busy": "2025-04-24T17:01:24.308664Z",
     "iopub.status.idle": "2025-04-24T17:01:24.336859Z",
     "shell.execute_reply": "2025-04-24T17:01:24.335884Z"
    },
    "papermill": {
     "duration": 0.037481,
     "end_time": "2025-04-24T17:01:24.338469",
     "exception": false,
     "start_time": "2025-04-24T17:01:24.300988",
     "status": "completed"
    },
    "tags": []
   },
   "outputs": [],
   "source": [
    "# Make predictions on the test set\n",
    "y_pred = model.predict(X_test)"
   ]
  },
  {
   "cell_type": "markdown",
   "id": "1e82e8ce",
   "metadata": {
    "papermill": {
     "duration": 0.004082,
     "end_time": "2025-04-24T17:01:24.347008",
     "exception": false,
     "start_time": "2025-04-24T17:01:24.342926",
     "status": "completed"
    },
    "tags": []
   },
   "source": [
    "# **Step 8: Model Evaluationg**"
   ]
  },
  {
   "cell_type": "code",
   "execution_count": 11,
   "id": "cd5d35c8",
   "metadata": {
    "execution": {
     "iopub.execute_input": "2025-04-24T17:01:24.356896Z",
     "iopub.status.busy": "2025-04-24T17:01:24.356597Z",
     "iopub.status.idle": "2025-04-24T17:01:24.364234Z",
     "shell.execute_reply": "2025-04-24T17:01:24.363237Z"
    },
    "papermill": {
     "duration": 0.014339,
     "end_time": "2025-04-24T17:01:24.365562",
     "exception": false,
     "start_time": "2025-04-24T17:01:24.351223",
     "status": "completed"
    },
    "tags": []
   },
   "outputs": [
    {
     "name": "stdout",
     "output_type": "stream",
     "text": [
      "R² score: 0.8952\n",
      "Mean Absolute Error (MAE): 16252.4571\n",
      "Mean Squared Error (MSE): 840215135.3892\n"
     ]
    }
   ],
   "source": [
    "# R² score\n",
    "r2 = r2_score(y_test, y_pred)\n",
    "\n",
    "# Mean Absolute Error (MAE)\n",
    "mae = mean_absolute_error(y_test, y_pred)\n",
    "\n",
    "# Mean Squared Error (MSE)\n",
    "mse = mean_squared_error(y_test, y_pred)\n",
    "\n",
    "# Print the evaluation metrics\n",
    "print(f\"R² score: {r2:.4f}\")\n",
    "print(f\"Mean Absolute Error (MAE): {mae:.4f}\")\n",
    "print(f\"Mean Squared Error (MSE): {mse:.4f}\")\n"
   ]
  },
  {
   "cell_type": "code",
   "execution_count": null,
   "id": "ecbc807f",
   "metadata": {
    "papermill": {
     "duration": 0.004044,
     "end_time": "2025-04-24T17:01:24.374105",
     "exception": false,
     "start_time": "2025-04-24T17:01:24.370061",
     "status": "completed"
    },
    "tags": []
   },
   "outputs": [],
   "source": []
  }
 ],
 "metadata": {
  "kaggle": {
   "accelerator": "none",
   "dataSources": [
    {
     "datasetId": 51153,
     "sourceId": 95503,
     "sourceType": "datasetVersion"
    }
   ],
   "dockerImageVersionId": 31012,
   "isGpuEnabled": false,
   "isInternetEnabled": true,
   "language": "python",
   "sourceType": "notebook"
  },
  "kernelspec": {
   "display_name": "Python 3",
   "language": "python",
   "name": "python3"
  },
  "language_info": {
   "codemirror_mode": {
    "name": "ipython",
    "version": 3
   },
   "file_extension": ".py",
   "mimetype": "text/x-python",
   "name": "python",
   "nbconvert_exporter": "python",
   "pygments_lexer": "ipython3",
   "version": "3.11.11"
  },
  "papermill": {
   "default_parameters": {},
   "duration": 10.452222,
   "end_time": "2025-04-24T17:01:24.997873",
   "environment_variables": {},
   "exception": null,
   "input_path": "__notebook__.ipynb",
   "output_path": "__notebook__.ipynb",
   "parameters": {},
   "start_time": "2025-04-24T17:01:14.545651",
   "version": "2.6.0"
  }
 },
 "nbformat": 4,
 "nbformat_minor": 5
}
